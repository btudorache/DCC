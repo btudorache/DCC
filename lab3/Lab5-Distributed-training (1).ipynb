{
 "cells": [
  {
   "cell_type": "code",
   "execution_count": 1,
   "id": "cc4f41fd-047c-47ba-8d3d-9e70deda9519",
   "metadata": {},
   "outputs": [],
   "source": [
    "# the Datacenter Computing team (alexghergh)"
   ]
  },
  {
   "cell_type": "code",
   "execution_count": 2,
   "id": "ca297292-08e4-4b7b-adcf-7b2d2348a323",
   "metadata": {},
   "outputs": [],
   "source": [
    "from datasets import load_dataset\n",
    "import os\n",
    "import torch\n",
    "import torch.nn.functional as F\n",
    "import torchvision\n",
    "from tqdm.notebook import tqdm_notebook\n",
    "import pandas as pd\n",
    "import matplotlib.pyplot as plt\n",
    "from transformers import AutoTokenizer, LlamaConfig, LlamaForCausalLM\n",
    "import multiprocessing as mp\n",
    "import torch.distributed as dist\n",
    "\n",
    "torch.set_printoptions(precision=5, sci_mode=False)"
   ]
  },
  {
   "cell_type": "code",
   "execution_count": null,
   "id": "4d72245c-3289-43f1-a36c-c68f1cc2fdcf",
   "metadata": {},
   "outputs": [],
   "source": []
  },
  {
   "cell_type": "code",
   "execution_count": 3,
   "id": "f1f5a4b7-aabb-41f8-b928-655a705662e7",
   "metadata": {},
   "outputs": [],
   "source": [
    "# make sure to run this on fep, using the ucsx queue\n",
    "device = 'cuda'"
   ]
  },
  {
   "cell_type": "markdown",
   "id": "9c767ee1-0897-4e38-a4d7-0887064e9b91",
   "metadata": {},
   "source": [
    "## For this lab, we'll try to train the same model we used in the last laboratory, but in a distributed fashion. In short, distributed simply means \"more than 1 GPU\". Although there are multiple parallelism schemas, we'll only use **data parallelism** (DP) for now, to keep things simple."
   ]
  },
  {
   "cell_type": "code",
   "execution_count": null,
   "id": "3138020f-8d55-4096-a037-4e44c5bd6297",
   "metadata": {},
   "outputs": [],
   "source": []
  },
  {
   "cell_type": "markdown",
   "id": "7ad2cf5b-13f8-42bf-87d9-95e95e213f4f",
   "metadata": {},
   "source": [
    "## 1. The dataset, tokenizer, model, loss function, optimizer"
   ]
  },
  {
   "cell_type": "markdown",
   "id": "02fe698b-9b15-419e-b6dc-8b902e4979af",
   "metadata": {},
   "source": [
    "We'll use the same settings from last time. Keep in mind, we want nothing more than to train the same model, on the same dataset, but in a **distributed** setup. Nothing changes, except the way the data is exchanged during training."
   ]
  },
  {
   "cell_type": "code",
   "execution_count": 4,
   "id": "01c987e1-3bd1-475e-a46e-975b9fd41606",
   "metadata": {},
   "outputs": [],
   "source": [
    "ds = load_dataset('roneneldan/tinystories')"
   ]
  },
  {
   "cell_type": "code",
   "execution_count": 5,
   "id": "cadd4df3-7abc-41b7-ac32-eaba050d44ae",
   "metadata": {},
   "outputs": [
    {
     "data": {
      "text/plain": [
       "{'text': 'One day, a little girl named Lily found a needle in her room. She knew it was difficult to play with it because it was sharp. Lily wanted to share the needle with her mom, so she could sew a button on her shirt.\\n\\nLily went to her mom and said, \"Mom, I found this needle. Can you share it with me and sew my shirt?\" Her mom smiled and said, \"Yes, Lily, we can share the needle and fix your shirt.\"\\n\\nTogether, they shared the needle and sewed the button on Lily\\'s shirt. It was not difficult for them because they were sharing and helping each other. After they finished, Lily thanked her mom for sharing the needle and fixing her shirt. They both felt happy because they had shared and worked together.'}"
      ]
     },
     "execution_count": 5,
     "metadata": {},
     "output_type": "execute_result"
    }
   ],
   "source": [
    "ds['train'][0]"
   ]
  },
  {
   "cell_type": "code",
   "execution_count": 6,
   "id": "d15ef51b-268d-4f6f-bacb-68ce7c4041d2",
   "metadata": {},
   "outputs": [],
   "source": [
    "tokenizer = AutoTokenizer.from_pretrained(\"EleutherAI/gpt-neo-125M\")"
   ]
  },
  {
   "cell_type": "code",
   "execution_count": 7,
   "id": "f113b6f7-940d-42ae-af7c-f4f5be860829",
   "metadata": {},
   "outputs": [],
   "source": [
    "context_length = 512"
   ]
  },
  {
   "cell_type": "code",
   "execution_count": 8,
   "id": "d8bc2c63-ecf9-493f-a985-e2fb4925bb23",
   "metadata": {},
   "outputs": [],
   "source": [
    "# tokenize and chunk the dataset into equal pieces\n",
    "def tokenize_and_chunk(examples):\n",
    "    outputs = tokenizer(\n",
    "        examples['text'],\n",
    "        truncation=True,\n",
    "        max_length=context_length,\n",
    "        return_overflowing_tokens=True,\n",
    "        return_length=True,\n",
    "    )\n",
    "    input_batch = []\n",
    "    for length, input_ids in zip(outputs[\"length\"], outputs[\"input_ids\"]):\n",
    "        if length == context_length:\n",
    "            input_batch.append(input_ids)\n",
    "    return {\"input_ids\": input_batch}\n",
    "\n",
    "tokenized_ds = ds.map(\n",
    "    tokenize_and_chunk, batched=True, remove_columns=ds[\"train\"].column_names\n",
    ")"
   ]
  },
  {
   "cell_type": "code",
   "execution_count": 9,
   "id": "89c79004-26f8-4704-b680-e9cf398335bf",
   "metadata": {},
   "outputs": [],
   "source": [
    "# we need to set the format of the dataset to \"torch\", meaning we'll use pytorch tensors\n",
    "tokenized_ds.set_format('torch')"
   ]
  },
  {
   "cell_type": "code",
   "execution_count": 10,
   "id": "60b81a35-2ec3-4ee6-8f5e-79e4ada9ad4e",
   "metadata": {},
   "outputs": [
    {
     "data": {
      "text/plain": [
       "LlamaForCausalLM(\n",
       "  (model): LlamaModel(\n",
       "    (embed_tokens): Embedding(50257, 768)\n",
       "    (layers): ModuleList(\n",
       "      (0-3): 4 x LlamaDecoderLayer(\n",
       "        (self_attn): LlamaSdpaAttention(\n",
       "          (q_proj): Linear(in_features=768, out_features=768, bias=False)\n",
       "          (k_proj): Linear(in_features=768, out_features=768, bias=False)\n",
       "          (v_proj): Linear(in_features=768, out_features=768, bias=False)\n",
       "          (o_proj): Linear(in_features=768, out_features=768, bias=False)\n",
       "          (rotary_emb): LlamaRotaryEmbedding()\n",
       "        )\n",
       "        (mlp): LlamaMLP(\n",
       "          (gate_proj): Linear(in_features=768, out_features=3072, bias=False)\n",
       "          (up_proj): Linear(in_features=768, out_features=3072, bias=False)\n",
       "          (down_proj): Linear(in_features=3072, out_features=768, bias=False)\n",
       "          (act_fn): NewGELUActivation()\n",
       "        )\n",
       "        (input_layernorm): LlamaRMSNorm((768,), eps=1e-06)\n",
       "        (post_attention_layernorm): LlamaRMSNorm((768,), eps=1e-06)\n",
       "      )\n",
       "    )\n",
       "    (norm): LlamaRMSNorm((768,), eps=1e-06)\n",
       "    (rotary_emb): LlamaRotaryEmbedding()\n",
       "  )\n",
       "  (lm_head): Linear(in_features=768, out_features=50257, bias=False)\n",
       ")"
      ]
     },
     "execution_count": 10,
     "metadata": {},
     "output_type": "execute_result"
    }
   ],
   "source": [
    "# use the same llama example model as last time\n",
    "config = LlamaConfig(vocab_size=len(tokenizer),\n",
    "                     hidden_size=768,\n",
    "                     intermediate_size=4*768,\n",
    "                     num_hidden_layers=4,\n",
    "                     num_attention_heads=16,\n",
    "                     hidden_act='gelu_new',\n",
    "                    )\n",
    "model = LlamaForCausalLM(config)\n",
    "model"
   ]
  },
  {
   "cell_type": "code",
   "execution_count": 11,
   "id": "e67733ef-07fd-4498-9b71-fc8df5272763",
   "metadata": {},
   "outputs": [
    {
     "data": {
      "text/plain": [
       "37755648"
      ]
     },
     "execution_count": 11,
     "metadata": {},
     "output_type": "execute_result"
    }
   ],
   "source": [
    "sum(p.numel() for p in model.parameters()) - 2 * len(tokenizer) * 768"
   ]
  },
  {
   "cell_type": "code",
   "execution_count": 12,
   "id": "c362c1b0-2dfa-4805-a8df-a141a1bae6bb",
   "metadata": {},
   "outputs": [
    {
     "data": {
      "text/plain": [
       "CrossEntropyLoss()"
      ]
     },
     "execution_count": 12,
     "metadata": {},
     "output_type": "execute_result"
    }
   ],
   "source": [
    "loss_fn = torch.nn.CrossEntropyLoss()\n",
    "loss_fn"
   ]
  },
  {
   "cell_type": "code",
   "execution_count": 13,
   "id": "c70c695e-7fbd-4281-b55a-ce8972bef174",
   "metadata": {},
   "outputs": [
    {
     "data": {
      "text/plain": [
       "AdamW (\n",
       "Parameter Group 0\n",
       "    amsgrad: False\n",
       "    betas: (0.9, 0.95)\n",
       "    capturable: False\n",
       "    differentiable: False\n",
       "    eps: 1e-08\n",
       "    foreach: None\n",
       "    fused: None\n",
       "    lr: 0.0005\n",
       "    maximize: False\n",
       "    weight_decay: 0.1\n",
       ")"
      ]
     },
     "execution_count": 13,
     "metadata": {},
     "output_type": "execute_result"
    }
   ],
   "source": [
    "optimizer = torch.optim.AdamW(model.parameters(), lr=0.0005, weight_decay=0.1, betas=(0.9, 0.95))\n",
    "optimizer"
   ]
  },
  {
   "cell_type": "code",
   "execution_count": null,
   "id": "03f8260a-2e2a-43b7-ba98-386ee5fb8514",
   "metadata": {},
   "outputs": [],
   "source": []
  },
  {
   "cell_type": "markdown",
   "id": "2ba7a211-d9ce-4923-8b51-636693937a41",
   "metadata": {},
   "source": [
    "## 2. The training loop"
   ]
  },
  {
   "cell_type": "markdown",
   "id": "016cac2b-2742-4394-9474-97bd70e48d35",
   "metadata": {},
   "source": [
    "Nothing much changes here, except the synchronization of gradients. Notice the extra lines of code we used to do this.\n",
    "\n",
    "There's one extra thing that comes with parallelism, and that is the _data_ in _data parallelism_. Specifically, we also now need to partition the data for each GPU. Instead of 1 GPU seeing all the data, now 2 GPUs see half of the data (this is why the overall process should be twice faster). To do this, we simply select a subset of the data from the whole dataset, based on the rank of the process."
   ]
  },
  {
   "cell_type": "code",
   "execution_count": 14,
   "id": "b6eb53cf-6e79-4faf-82f3-44194fcd0de0",
   "metadata": {},
   "outputs": [],
   "source": [
    "def training_loop_fn(rank, world_size):\n",
    "\n",
    "    # let's move the model to the proper GPU\n",
    "    model.to(device + ':' + str(rank)) # string addition, should end up as 'cuda:0', 'cuda:1' etc.\n",
    "\n",
    "    # partition the data; each worker/GPU gets its chunk of the data to work on,\n",
    "    # based on its rank and the total number of workers (the world size)\n",
    "    dataset_chunk_size = len(tokenized_ds['train']) // world_size\n",
    "    dl = torch.utils.data.DataLoader(\n",
    "        tokenized_ds['train'].select(range(rank * dataset_chunk_size, (rank + 1) * dataset_chunk_size)),\n",
    "        batch_size=16,\n",
    "        shuffle=False) # don't shuffle\n",
    "    \n",
    "    epochs = 1\n",
    "    losses = []\n",
    "\n",
    "    for epoch in range(epochs):\n",
    "\n",
    "        # unfortunately, because this now runs in a separate process, tqdm cannot display a progress bar to\n",
    "        # the main process; to make this work, extra work is needed to share the state with the main process\n",
    "        # using something like pipes or shared memory; we'll skip this for now\n",
    "        for batch in tqdm_notebook(dl, total=len(dl)):\n",
    "            # retrieve one batch of data from the dataloader\n",
    "            inputs = batch['input_ids']\n",
    "    \n",
    "            # move the inputs to GPU\n",
    "            inputs = inputs.to(device + ':' + str(rank))\n",
    "            \n",
    "            labels = inputs\n",
    "    \n",
    "            # before anything else, make sure we have no gradients yet calculated/saved,\n",
    "            # for any of the model parameters\n",
    "            optimizer.zero_grad()\n",
    "    \n",
    "            # calculate the output of the model (we need the \"logits\" of the model, which\n",
    "            # is what the output of the final linear layer is called)\n",
    "            output = model(inputs).logits\n",
    "            \n",
    "            # we are doing next-token prediction, so we shift label scores and outputs by 1\n",
    "            labels = labels[:, 1:].contiguous()\n",
    "            shifted_output = output[:, :-1, :].contiguous()\n",
    "    \n",
    "            # calculate the loss (error) of the model with respect to the labels\n",
    "            loss = loss_fn(shifted_output.view(-1, shifted_output.size(-1)), labels.view(-1))\n",
    "    \n",
    "            # save the loss value\n",
    "            losses.append(loss.item())\n",
    "    \n",
    "            # this is where the magic happens; PyTorch now calculates the gradients AUTOMATICALLY for us,\n",
    "            # and the optimizer updates the parameters with these gradients (only AFTER synchronizing them\n",
    "            # with the rest of the workers)\n",
    "            loss.backward()\n",
    "    \n",
    "            # here's the extra lines that synchronize the gradients across multiple workers, after\n",
    "            # each worker calculated them in the backward pass\n",
    "            # notice that this is the ONLY synchronization point of the workers; everything\n",
    "            # else, after the initial setup, is done independently\n",
    "            for param in model.parameters():\n",
    "                dist.all_reduce(param.grad.data, op=dist.ReduceOp.SUM)\n",
    "                param.grad.data /= world_size\n",
    "    \n",
    "            # only after averaging the gradients, we can update the parameters\n",
    "            optimizer.step()\n",
    "\n",
    "    # save the model at the end; as all ranks hold the same model, we only need to save it from rank 0\n",
    "    if rank == 0:\n",
    "        model.save_pretrained('lab5_pretrained_model')\n",
    "\n",
    "    # let's also save the losses; only for first rank, because the rest should be the same\n",
    "    if rank == 0:\n",
    "        torch.save(losses, 'losses.pth')"
   ]
  },
  {
   "cell_type": "code",
   "execution_count": null,
   "id": "c19b8f6f-609b-44a1-a514-f19a9a5771a0",
   "metadata": {},
   "outputs": [],
   "source": []
  },
  {
   "cell_type": "code",
   "execution_count": null,
   "id": "f3b42a2b-33cf-45dc-8d2c-2aea83be9a3a",
   "metadata": {},
   "outputs": [],
   "source": []
  },
  {
   "cell_type": "markdown",
   "id": "0ed69380-f489-4e20-be64-fa91f106bb9a",
   "metadata": {},
   "source": [
    "## 3. Setting up multiple processes"
   ]
  },
  {
   "cell_type": "markdown",
   "id": "31f0c2ca-79e2-4060-a649-ed788a7ffd89",
   "metadata": {},
   "source": [
    "Finally, here comes the fun part! We need to set up multiple processes, one for each data parallel worker (or a so-called *model replica*). These processes need to know about each other. One of them is the main node, which coordinates the communication, while other nodes (in our case only 1 other) are workers, which connect to the main node to initiate distributed training.\n",
    "\n",
    "In order to exchange the gradients, we'll simply use All-Reduce operations (see [Pytorch's torch.distributed package](https://pytorch.org/docs/stable/distributed.html#torch.distributed.all_reduce))."
   ]
  },
  {
   "cell_type": "markdown",
   "id": "89bc9708-d4c3-4926-9d37-b30af1138107",
   "metadata": {},
   "source": [
    "First of all, we need a way to initialize each process. This is the step which tells each GPU who to connect to, since we now have a group of processes to coordinate. For this, we'll simply write an `init_process` function, which receives the **rank** (i.e. GPU number inside the group of processes), the **world size** (the actual number of processes in the group), and the function to execute, after connecting to the main GPU (which will just be our training loop)."
   ]
  },
  {
   "cell_type": "code",
   "execution_count": 15,
   "id": "5f41a259-443d-4bd2-94af-79d266aaf000",
   "metadata": {},
   "outputs": [],
   "source": [
    "def init_process(rank, world_size, loop_fn):\n",
    "    # initialize distributed environment, by telling each worker\n",
    "    # where the master process can be found; since we know that\n",
    "    # our GPUs are all connected to the same PC, we'll just give it\n",
    "    # the localhost address, and a random port of our choosing\n",
    "    os.environ['MASTER_ADDR'] = '127.0.0.1'\n",
    "    os.environ['MASTER_PORT'] = '29500'\n",
    "\n",
    "    # we'll use the NCCL backend (which is for Nvidia GPUs); if instead\n",
    "    # you want to run this on CPU, using MPI, you can switch to 'gloo' as\n",
    "    # backend\n",
    "    dist.init_process_group(backend='nccl', rank=rank, world_size=world_size)\n",
    "\n",
    "    # finally, launch the training loop\n",
    "    loop_fn(rank, world_size)"
   ]
  },
  {
   "cell_type": "markdown",
   "id": "baad1bfe-6a9a-4027-a574-147e3d215cb3",
   "metadata": {},
   "source": [
    "Now, we need to actually start multiple processes. We'll just use the [multiprocessing](https://docs.python.org/3/library/multiprocessing.html) utility in python, using the _\"spawn\"_ method (which is simply using a syscall of `posix_spawn`, or `fork` + `exec` where that's not available)."
   ]
  },
  {
   "cell_type": "code",
   "execution_count": 16,
   "id": "5059e85d-bb6b-45f8-a894-452a22c7f712",
   "metadata": {},
   "outputs": [],
   "source": [
    "# pick the number of GPUs here; run 'nvidia-smi' on fep to see how many you have available\n",
    "world_size = 2\n",
    "    \n",
    "processes = []\n",
    "#mp.set_start_method(\"spawn\")\n",
    "\n",
    "# each GPU in a \"world\" (i.e. group of processes) is assigned a rank; we start each process\n",
    "# separately and tell it to connect to the main GPU (with rank 0) through the \"init_process\"\n",
    "# function above\n",
    "for rank in range(world_size):\n",
    "    p = mp.Process(target=init_process, args=(rank, world_size, training_loop_fn))\n",
    "    p.start()\n",
    "    processes.append(p)\n",
    "\n",
    "# finally, wait for all to finish\n",
    "for p in processes:\n",
    "    p.join()"
   ]
  },
  {
   "cell_type": "code",
   "execution_count": null,
   "id": "331e30ae-38a2-4460-b2a1-975ae6614d23",
   "metadata": {},
   "outputs": [],
   "source": []
  },
  {
   "cell_type": "markdown",
   "id": "27d2a46d-3c7b-4079-8176-1fbd75f278c2",
   "metadata": {},
   "source": [
    "## 4. Wrapping up (inference and loss visualization)"
   ]
  },
  {
   "cell_type": "code",
   "execution_count": 17,
   "id": "e2f5ec95-43e2-49bb-8b48-fcfcf4f3336e",
   "metadata": {},
   "outputs": [
    {
     "name": "stderr",
     "output_type": "stream",
     "text": [
      "/tmp/ipykernel_1474945/3841630559.py:5: FutureWarning: You are using `torch.load` with `weights_only=False` (the current default value), which uses the default pickle module implicitly. It is possible to construct malicious pickle data which will execute arbitrary code during unpickling (See https://github.com/pytorch/pytorch/blob/main/SECURITY.md#untrusted-models for more details). In a future release, the default value for `weights_only` will be flipped to `True`. This limits the functions that could be executed during unpickling. Arbitrary objects will no longer be allowed to be loaded via this mode unless they are explicitly allowlisted by the user via `torch.serialization.add_safe_globals`. We recommend you start setting `weights_only=True` for any use case where you don't have full control of the loaded file. Please open an issue on GitHub for any issues related to this experimental feature.\n",
      "  losses = torch.load('losses.pth')\n"
     ]
    },
    {
     "data": {
      "text/plain": [
       "<matplotlib.collections.PathCollection at 0x7f053e8dff50>"
      ]
     },
     "execution_count": 17,
     "metadata": {},
     "output_type": "execute_result"
    },
    {
     "data": {
      "image/png": "[encoded data removed]",
      "text/plain": [
       "<Figure size 640x480 with 1 Axes>"
      ]
     },
     "metadata": {},
     "output_type": "display_data"
    }
   ],
   "source": [
    "# and finally let's load the losses and the model back into our jupyter notebook;\n",
    "# remember, we couldn't directly use them in the above training loop, because it\n",
    "# runs in a different, fork'ed process\n",
    "model = LlamaForCausalLM.from_pretrained('lab5_pretrained_model')\n",
    "losses = torch.load('losses.pth')\n",
    "\n",
    "plt.scatter(range(len(losses)), losses)"
   ]
  },
  {
   "cell_type": "code",
   "execution_count": 18,
   "id": "29e6b5c0-2334-4fff-bacd-16102159515b",
   "metadata": {},
   "outputs": [],
   "source": [
    "# try to play around with this prompt; see what the model can and can't do\n",
    "text_to_complete = 'Lily said the color of the rainbow was very'"
   ]
  },
  {
   "cell_type": "code",
   "execution_count": 19,
   "id": "cb90e712-e136-443e-856f-2b33f27b4674",
   "metadata": {},
   "outputs": [
    {
     "name": "stderr",
     "output_type": "stream",
     "text": [
      "Setting `pad_token_id` to `eos_token_id`:None for open-end generation.\n"
     ]
    },
    {
     "name": "stdout",
     "output_type": "stream",
     "text": [
      "Lily said the color of the rainbow was very happy. It was different from the sky that fell from the sky. Lily had seen her friends standing over the ground. They wore different shirts and had different colors.\n",
      "\n",
      "\"Look, Lily, I see a rainbow,\" Tim said. He held the rainbow tightly. He wanted to show it to his friends.\n",
      "\n",
      "\"Wow, Ben, that's a pretty rainbow!\" Lily said. She wanted to show him Ben's sunflower.\n",
      "\n",
      "\"Look, I have a sunflower unicorn!\" Ben said. He looked and waved his hand.\n",
      "\n",
      "Lily smiled and ran to Ben. She was careful not to burn the rainbow. She held her sunflower tight.\n",
      "\n",
      "\"Look, Ben, I found a rainbow unicorn!\" Lily said. She held out her hand. She wanted to touch it.\n",
      "\n",
      "Ben was frightened. He did not like to stay in the rain. It was sad and dirty and cold. He ran to Lily and cried.\n",
      "\n",
      "\"Lily, come back!\" Ben shouted.\n",
      "\n",
      "Mom heard Ben. She ran to Ben. She saw him in the rain. She saw his wet hat bleeding, his green hat, his black dress, his green hat, and his orange face.\n",
      "\n",
      "\"Oh, Lily\n"
     ]
    }
   ],
   "source": [
    "# inference on the model\n",
    "from transformers import pipeline\n",
    "\n",
    "pipe = pipeline('text-generation', model=model, tokenizer=tokenizer, device=device)\n",
    "output = pipe(\n",
    "    text_to_complete,\n",
    "    max_new_tokens=256, # number of tokens to generate\n",
    "    do_sample=True, # this gives us a little randomness; set to False for deterministic generation\n",
    ")[0]['generated_text']\n",
    "\n",
    "print(output)"
   ]
  },
  {
   "cell_type": "code",
   "execution_count": null,
   "id": "07278ee9-ee37-4b91-a5fd-fcb055092014",
   "metadata": {},
   "outputs": [],
   "source": []
  },
  {
   "cell_type": "markdown",
   "id": "a858a384-0981-4f24-ba81-7ae5ebfa5de2",
   "metadata": {},
   "source": [
    "## 5. Scaling up to infinity.. and beyond"
   ]
  },
  {
   "cell_type": "markdown",
   "id": "d17e049a-f575-441e-8bb1-47770db09d82",
   "metadata": {},
   "source": [
    "As an exercise, try to do the same for more than 2 GPUs (e.g. for 3). What part of the code needs to change? What stays constant? If I scale up to 10k GPUs, or to 100k GPUs, using the same model, and just data parallelism, what changes? Try to think through these questions while going over the code.\n",
    "\n",
    "Of course, using bigger models, where one model cannot fit into 1 GPU, necessitates different strategies, such as pipeline or tensor parallelism.\n",
    "\n",
    "If you're curious about more, there's [an excellent tutorial from PyTorch on DP](https://pytorch.org/tutorials/intermediate/dist_tuto.html) explaining this communication step between multiple GPUs, a more advanced tutorial on [how to use Distributed Data Parallel in PyTorch](https://pytorch.org/tutorials/beginner/ddp_series_multigpu.html), which abstracts away some of the things we've done above, and there's [a more general tutorial](https://pytorch.org/tutorials/beginner/dist_overview.html) detailing more about what parallelism strategies there are (mainly pipeline and tensor parallelism in PyTorch), and how to use those together with DP."
   ]
  },
  {
   "cell_type": "code",
   "execution_count": null,
   "id": "cef4578b-7848-4a81-bb78-f456807174f8",
   "metadata": {},
   "outputs": [],
   "source": []
  }
 ],
 "metadata": {
  "kernelspec": {
   "display_name": "Python 3 (ipykernel)",
   "language": "python",
   "name": "python3"
  },
  "language_info": {
   "codemirror_mode": {
    "name": "ipython",
    "version": 3
   },
   "file_extension": ".py",
   "mimetype": "text/x-python",
   "name": "python",
   "nbconvert_exporter": "python",
   "pygments_lexer": "ipython3",
   "version": "3.11.10"
  }
 },
 "nbformat": 4,
 "nbformat_minor": 5
}
