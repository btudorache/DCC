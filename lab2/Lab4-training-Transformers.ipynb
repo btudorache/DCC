{
 "cells": [
  {
   "cell_type": "code",
   "execution_count": 1,
   "id": "a1b022cb-258a-446e-9f60-f5059309a8c7",
   "metadata": {},
   "outputs": [],
   "source": [
    "# the Datacenter Computing team (alexghergh)"
   ]
  },
  {
   "cell_type": "code",
   "execution_count": 2,
   "id": "c8c2bc58-fbef-460f-8540-928aae14db0c",
   "metadata": {},
   "outputs": [],
   "source": [
    "from datasets import load_dataset\n",
    "import torch\n",
    "import torch.nn.functional as F\n",
    "import torchvision\n",
    "from tqdm.notebook import tqdm_notebook\n",
    "import pandas as pd\n",
    "import matplotlib.pyplot as plt\n",
    "from transformers import AutoTokenizer, LlamaConfig, LlamaForCausalLM\n",
    "\n",
    "torch.set_printoptions(precision=5, sci_mode=False)"
   ]
  },
  {
   "cell_type": "code",
   "execution_count": null,
   "id": "440a82e0-1a71-4ca6-b17c-4338e80e80a9",
   "metadata": {},
   "outputs": [],
   "source": []
  },
  {
   "cell_type": "code",
   "execution_count": 3,
   "id": "e2dee060-bb06-415a-ab5d-cd43a597cc48",
   "metadata": {},
   "outputs": [],
   "source": [
    "# make sure to run this on fep, using the ucsx queue; change to 'cpu' if you are \n",
    "# curious how slow it can get!\n",
    "device = 'cuda'"
   ]
  },
  {
   "cell_type": "markdown",
   "id": "47010f83-3063-4a29-af3d-ac99482ccb26",
   "metadata": {},
   "source": [
    "## In this lab, we'll try to reproduce the paper [TinyStories: How Small Can Language Models Be and Still Speak Coherent English?](https://arxiv.org/abs/2305.07759). It's very easy to understand, so step 1 is to read this paper fully. Don't worry too much about details. What we want is to try to reproduce some of these experiments ourselves!"
   ]
  },
  {
   "cell_type": "markdown",
   "id": "a15078c5-87de-42f5-8d50-2a85596c1e83",
   "metadata": {},
   "source": [
    "## 1. The dataset"
   ]
  },
  {
   "cell_type": "markdown",
   "id": "574a65ee-85cc-4976-9082-544c74c4efe7",
   "metadata": {},
   "source": [
    "As was the case for images, we need a dataset to work with. As mentioned before, HF usually holds a bunch of useful datasets, and we're lucky that the authors of the paper also uploaded their dataset on HF!"
   ]
  },
  {
   "cell_type": "code",
   "execution_count": 4,
   "id": "c7559e28-3637-4259-b64c-5fcfc3458367",
   "metadata": {},
   "outputs": [],
   "source": [
    "ds = load_dataset('roneneldan/tinystories')"
   ]
  },
  {
   "cell_type": "code",
   "execution_count": 5,
   "id": "7fdd5411-b04a-4204-8c0f-40d2367be89d",
   "metadata": {},
   "outputs": [
    {
     "data": {
      "text/plain": [
       "{'text': 'One day, a little girl named Lily found a needle in her room. She knew it was difficult to play with it because it was sharp. Lily wanted to share the needle with her mom, so she could sew a button on her shirt.\\n\\nLily went to her mom and said, \"Mom, I found this needle. Can you share it with me and sew my shirt?\" Her mom smiled and said, \"Yes, Lily, we can share the needle and fix your shirt.\"\\n\\nTogether, they shared the needle and sewed the button on Lily\\'s shirt. It was not difficult for them because they were sharing and helping each other. After they finished, Lily thanked her mom for sharing the needle and fixing her shirt. They both felt happy because they had shared and worked together.'}"
      ]
     },
     "execution_count": 5,
     "metadata": {},
     "output_type": "execute_result"
    }
   ],
   "source": [
    "ds['train'][0]"
   ]
  },
  {
   "cell_type": "markdown",
   "id": "2965c17e-56c8-4dfb-8316-c2b7e9fac2fc",
   "metadata": {},
   "source": [
    "## 2. Tokenization"
   ]
  },
  {
   "cell_type": "markdown",
   "id": "ee471d7a-4b86-4876-9c2b-4d912b6e527f",
   "metadata": {},
   "source": [
    "Now, we need some way to transform this text into numerical data, so we can apply the matrix multiplications we know (and love). This process is called **tokenization**. We'll skip how this happens under the hood, as we don't care too much about that now, but we'll use an existing well-known tokenizer (a variation of the original tokenizer used for GPT2), also used in the paper. If you're curious about building your own tokenizer, do check out [this lesson](https://huggingface.co/learn/nlp-course/chapter6/8)."
   ]
  },
  {
   "cell_type": "code",
   "execution_count": 6,
   "id": "0f127b0a-16ff-4fb5-9512-241bf1f6aca2",
   "metadata": {},
   "outputs": [],
   "source": [
    "tokenizer = AutoTokenizer.from_pretrained(\"EleutherAI/gpt-neo-125M\")"
   ]
  },
  {
   "cell_type": "code",
   "execution_count": 7,
   "id": "a3513f51-4f71-46f5-b961-b6dccd68c7d9",
   "metadata": {},
   "outputs": [
    {
     "data": {
      "text/plain": [
       "['This',\n",
       " 'Ġis',\n",
       " 'Ġthe',\n",
       " 'Ġcraz',\n",
       " 'iest',\n",
       " 'Ġlaboratory',\n",
       " 'Ġwork',\n",
       " 'Ġin',\n",
       " 'Ġthe',\n",
       " 'Ġworld',\n",
       " '!']"
      ]
     },
     "execution_count": 7,
     "metadata": {},
     "output_type": "execute_result"
    }
   ],
   "source": [
    "# let's see how the tokenizer splits a sentence\n",
    "tokenizer.tokenize('This is the craziest laboratory work in the world!')"
   ]
  },
  {
   "cell_type": "markdown",
   "id": "f416c3b6-a4a9-44d6-98f3-b184192ddabd",
   "metadata": {},
   "source": [
    "Notice how the tokenizer uses the weird `Ġ` to mark a whitespace, and how it split the word `craziest` into 2 tokens, `Ġcraz` and `iest`. More often than not, our tokens will not be full words, but rather sub-words. This way, we can represent all the possible imaginable words, but with just a few tokens. This tokenizer in particular has around 50k tokens, but State-of-the-Art tokenizers today (think Llama or ChatGPT) usually use 128k or even 256k tokens. Let's see the full collection of tokens (called *vocabulary*) of this tokenizer."
   ]
  },
  {
   "cell_type": "code",
   "execution_count": 8,
   "id": "b0f2475f-47d6-415a-8d4d-0ee25dc87697",
   "metadata": {
    "scrolled": true
   },
   "outputs": [
    {
     "data": {
      "text/plain": [
       "{'w': 86,\n",
       " 'gr': 2164,\n",
       " 'Ġperiodic': 27458,\n",
       " 'ĠRise': 15648,\n",
       " 'Ġambitions': 22455,\n",
       " 'Ġrankings': 16905,\n",
       " 'manuel': 18713,\n",
       " 'Ġalright': 23036,\n",
       " 'ĠHarlem': 39735,\n",
       " 'Ġrecognized': 8018,\n",
       " 'ĠHolt': 28330,\n",
       " 'Ġscreenplay': 39769,\n",
       " 'Max': 11518,\n",
       " 'ĠCock': 23769,\n",
       " 'ĠCand': 15518,\n",
       " 'USA': 14053,\n",
       " 'akra': 38004,\n",
       " 'ê': 166,\n",
       " 'ĠAdvanced': 13435,\n",
       " 'Spl': 26568,\n",
       " 'fo': 6513,\n",
       " 'ÏĢ': 46582,\n",
       " 'ĠSantana': 49067,\n",
       " 'Ġain': 18959,\n",
       " 'Ġposs': 1184,\n",
       " 'ĠContest': 27297,\n",
       " 'Ġalerted': 28608,\n",
       " 'Ġcrippled': 38961,\n",
       " 'KY': 31159,\n",
       " 'Ġintegrity': 11540,\n",
       " 'Ġshrink': 22085,\n",
       " 'cb': 21101,\n",
       " 'irteen': 22530,\n",
       " 'ĠEleven': 37339,\n",
       " 'Ġmurderer': 29262,\n",
       " 'Ġsubversive': 49685,\n",
       " 'Ġfailing': 9894,\n",
       " 'Ġexemption': 19572,\n",
       " 'ĠFore': 4558,\n",
       " 'water': 7050,\n",
       " 'ĠMining': 29269,\n",
       " 'Rem': 8413,\n",
       " 'line': 1370,\n",
       " 'ĠKurdistan': 29439,\n",
       " 'Ġagitation': 42209,\n",
       " 'Ġpersuasive': 40116,\n",
       " 'ĠDISTR': 34957,\n",
       " 'ĠDiana': 25752,\n",
       " 'ĠMourinho': 28689,\n",
       " 'ĠOnline': 7467,\n",
       " 'ĠRecipe': 26694,\n",
       " 'ĠSlav': 34314,\n",
       " 'wei': 42990,\n",
       " 'Ġdefenders': 16355,\n",
       " 'Ġdraped': 38425,\n",
       " 'Ġeducators': 30770,\n",
       " 'Ġorganizer': 26311,\n",
       " 'Ġtesting': 4856,\n",
       " 'Ġremod': 38977,\n",
       " 'Ġunderdog': 44288,\n",
       " 'DragonMagazine': 42424,\n",
       " ']-': 45297,\n",
       " 'Nick': 23609,\n",
       " 'euro': 44252,\n",
       " 'oulder': 17601,\n",
       " 'ĠGalactic': 23509,\n",
       " 'Ġ321': 39595,\n",
       " 'ĠRidge': 20614,\n",
       " 'Dep': 12156,\n",
       " 'though': 2016,\n",
       " 'Ġconsulate': 44369,\n",
       " 'Ġoath': 17865,\n",
       " 'igh': 394,\n",
       " 'acle': 6008,\n",
       " 'ĠCollege': 5535,\n",
       " 'ĠRampage': 40244,\n",
       " 'Ġpods': 37185,\n",
       " 'Ġprov': 899,\n",
       " 'Ġshitty': 32574,\n",
       " 'Ġstripped': 18818,\n",
       " '797': 44673,\n",
       " 'mass': 22208,\n",
       " 'Ġupbringing': 40678,\n",
       " 'Ġwrapped': 12908,\n",
       " 'Ġparameter': 11507,\n",
       " 'oust': 23968,\n",
       " 'quel': 31735,\n",
       " 'ĠDamian': 42574,\n",
       " 'ĠJPM': 40145,\n",
       " 'Ġcontain': 3994,\n",
       " 'Ġcertified': 15704,\n",
       " 'ĠBegin': 16623,\n",
       " 'joy': 2633,\n",
       " 'Ġyogurt': 32132,\n",
       " 'ĠCairo': 23732,\n",
       " 'ĠPublisher': 28045,\n",
       " 'ĠMald': 37490,\n",
       " 'æĸ': 23877,\n",
       " 'Ġpromising': 11781,\n",
       " 'es': 274,\n",
       " 'Ġplum': 22802,\n",
       " 'Boy': 26554,\n",
       " 'Ġrefusal': 17387,\n",
       " 'Values': 40161,\n",
       " 'ĠTorah': 33366,\n",
       " 'Ġexacerbated': 38337,\n",
       " 'mann': 9038,\n",
       " 'ĠPos': 18574,\n",
       " 'ĠSports': 7092,\n",
       " 'Ġrepercussions': 34056,\n",
       " 'Ġreass': 12719,\n",
       " 'ĠCanada': 3340,\n",
       " 'Ġdepl': 38316,\n",
       " 'Ġdescriptor': 43087,\n",
       " 'Ġworldly': 43249,\n",
       " 'Ġshady': 36135,\n",
       " 'ĠLessons': 46885,\n",
       " 'Ġgoggles': 42762,\n",
       " 'ĠGoo': 43456,\n",
       " 'Ġaccompan': 10600,\n",
       " 'Ġtaxis': 45049,\n",
       " 'eny': 28558,\n",
       " 'Ġwrites': 6797,\n",
       " 'Ġpenalties': 12970,\n",
       " 'ĠJP': 21331,\n",
       " 'Mess': 36479,\n",
       " 'Width': 30916,\n",
       " '\\\\\",': 34607,\n",
       " 'ĠIgn': 16583,\n",
       " 'ĠSocialist': 21773,\n",
       " 'ĠTNT': 42490,\n",
       " 'Ġdefenses': 18370,\n",
       " 'Ġclone': 17271,\n",
       " 'Ġscrutiny': 14521,\n",
       " 'iosity': 15023,\n",
       " 'ĠGCC': 42362,\n",
       " 'ĠBlessing': 49964,\n",
       " 'ĠMd': 39762,\n",
       " 'ĠCostco': 46889,\n",
       " '522': 49542,\n",
       " 'hospital': 49257,\n",
       " 'idently': 46046,\n",
       " 'Aren': 43199,\n",
       " 'Ġabsorbing': 34418,\n",
       " 'Ġadvises': 34138,\n",
       " 'Ġstandard': 3210,\n",
       " 'ĠECO': 39031,\n",
       " 'ĠSteele': 28549,\n",
       " 'Ġunintentional': 48398,\n",
       " '720': 23906,\n",
       " 'Ġforg': 5784,\n",
       " 'hra': 45056,\n",
       " 'Ġuniquely': 24139,\n",
       " 'ĠPeck': 48434,\n",
       " 'ĠJersey': 8221,\n",
       " 'Ġstrained': 30744,\n",
       " 'ĠHep': 32308,\n",
       " 'Ġvolunteers': 11661,\n",
       " 'Ġwealthiest': 35817,\n",
       " 'ĠSl': 3454,\n",
       " 'Ġrose': 8278,\n",
       " 'intention': 40867,\n",
       " 'battle': 38471,\n",
       " 'Ġdistinguished': 18876,\n",
       " 'Ġwebs': 2639,\n",
       " 'Ġfostering': 44209,\n",
       " 'Ġnationalist': 19848,\n",
       " 'ĠShooting': 25360,\n",
       " 'Ġaz': 35560,\n",
       " 'Ġdisputes': 18563,\n",
       " 'Ġexceed': 7074,\n",
       " 'Ġwarmed': 38794,\n",
       " 'VD': 8898,\n",
       " 'Ġfractions': 49876,\n",
       " 'ĠCB': 10078,\n",
       " 'Ġlofty': 37248,\n",
       " 'independent': 34750,\n",
       " 'matter': 47635,\n",
       " 'Īè': 42062,\n",
       " '~~~~~~~~~~~~~~~~': 27156,\n",
       " 'det': 15255,\n",
       " 'Ġevolutionary': 16673,\n",
       " 'Ġwedding': 10614,\n",
       " 'Need': 23037,\n",
       " 'Ġopponents': 7691,\n",
       " 'guns': 44265,\n",
       " 'meta': 28961,\n",
       " 'ĠDEN': 37692,\n",
       " 'Ġterminated': 23083,\n",
       " 'ĠYuk': 19760,\n",
       " 'ĠUAE': 29367,\n",
       " 'Specific': 32419,\n",
       " 'Honest': 37411,\n",
       " 'Ġcircum': 4456,\n",
       " 'Ġwish': 4601,\n",
       " 'Ġ319': 40385,\n",
       " 'leep': 8892,\n",
       " 'ĠKimmel': 46552,\n",
       " 'Ġworkforce': 16433,\n",
       " 'ĠNASL': 49151,\n",
       " 'Ġnecessities': 41918,\n",
       " 'ĠDuchess': 40289,\n",
       " 'urai': 16998,\n",
       " 'channelAvailability': 39757,\n",
       " 'ĠWinged': 40668,\n",
       " 'Ġlegalize': 35605,\n",
       " 'ĠFlore': 23347,\n",
       " 'Ġhen': 30963,\n",
       " 'Ġretailers': 16167,\n",
       " 'Ġtemperament': 36140,\n",
       " 'anni': 31296,\n",
       " 'Ġdrowning': 32249,\n",
       " 'ĠFreder': 18669,\n",
       " 'Ġheat': 4894,\n",
       " 'Ġurges': 28804,\n",
       " 'ĠBib': 43278,\n",
       " 'Ġfame': 16117,\n",
       " 'ĠLayer': 34398,\n",
       " 'ĠPAN': 40468,\n",
       " 'ĠMalfoy': 39157,\n",
       " 'ĠTories': 25098,\n",
       " 'Ġ168': 23378,\n",
       " 'Ġurge': 14960,\n",
       " 'ĠFF': 18402,\n",
       " 'Ġrenegoti': 48312,\n",
       " 'Ġstorm': 6388,\n",
       " 'ĠRates': 34864,\n",
       " 'Ġoak': 26210,\n",
       " 'peace': 22988,\n",
       " 'Sl': 11122,\n",
       " 'ĠThis': 770,\n",
       " 'Pak': 29675,\n",
       " 'ifle': 8316,\n",
       " 'udden': 16557,\n",
       " 'tun': 28286,\n",
       " 'ĠTara': 37723,\n",
       " 'Ġcommit': 4589,\n",
       " 'Ġhyd': 7409,\n",
       " 'ĠHe': 679,\n",
       " 'Ġrope': 17182,\n",
       " 'Ġuncons': 13962,\n",
       " 'Ġwebsites': 9293,\n",
       " 'Ġá': 28053,\n",
       " 'ĠGeorgetown': 31393,\n",
       " 'Ġchapel': 43398,\n",
       " 'Ġcommitment': 7901,\n",
       " 'ĠHMS': 44247,\n",
       " 'Ġpract': 1970,\n",
       " 'iege': 14566,\n",
       " 'Ġreads': 9743,\n",
       " '1500': 33698,\n",
       " 'inch': 8589,\n",
       " 'Untitled': 46332,\n",
       " 'Ġ->': 4613,\n",
       " 'ĠCrusader': 33765,\n",
       " 'Ġprotesting': 23655,\n",
       " 'iver': 1428,\n",
       " 'ĠPharaoh': 42697,\n",
       " 'Ġpolls': 9231,\n",
       " 'aler': 36213,\n",
       " 'yre': 35759,\n",
       " 'ĠSeventh': 31848,\n",
       " 'ĠCatholic': 7835,\n",
       " 'Cost': 13729,\n",
       " 'RAW': 20530,\n",
       " 'annie': 42883,\n",
       " 'ĠPavilion': 42094,\n",
       " 'ĠReact': 21492,\n",
       " 'idia': 38513,\n",
       " 'Ġcredited': 18141,\n",
       " 'ĠAX': 43051,\n",
       " 'Ġeuphem': 48732,\n",
       " 'pires': 17833,\n",
       " 'raviolet': 44223,\n",
       " 'acky': 36053,\n",
       " 'iona': 32792,\n",
       " 'istant': 10167,\n",
       " 'ĠRomanian': 34344,\n",
       " 'Ġgluten': 21578,\n",
       " 'idth': 5649,\n",
       " 'ĠBore': 45409,\n",
       " 'ĠRS': 19340,\n",
       " 'ĠWCS': 45410,\n",
       " 'Ġdisputed': 21941,\n",
       " 'Ġhonestly': 12698,\n",
       " 'Ġinheritance': 24155,\n",
       " 'ĠGarland': 35466,\n",
       " 'Ġlegitimately': 36491,\n",
       " 'Ġlogin': 17594,\n",
       " 'good': 11274,\n",
       " 'Ġmagnet': 19972,\n",
       " '53': 4310,\n",
       " 'oly': 3366,\n",
       " 'Ġmonsters': 10963,\n",
       " 'Ġsoft': 2705,\n",
       " 'Ġtense': 20170,\n",
       " 'ranean': 16474,\n",
       " 'Ġerrone': 27383,\n",
       " 'Ġtidal': 40738,\n",
       " 'Ġbooth': 18600,\n",
       " 'ĠScient': 9898,\n",
       " 'Ġcoral': 29537,\n",
       " 'Ġlegs': 7405,\n",
       " 'ovable': 21985,\n",
       " 'Ġperf': 23035,\n",
       " 'Ġqueries': 20743,\n",
       " 'Ġtwin': 15203,\n",
       " 'Ġvisited': 8672,\n",
       " 'Ġdissolution': 37494,\n",
       " 'Ġobesity': 13825,\n",
       " 'ĠAss': 2195,\n",
       " '993': 44821,\n",
       " 'ernel': 7948,\n",
       " 'ĠBF': 41646,\n",
       " 'Ġstriker': 19099,\n",
       " 'Ġo': 267,\n",
       " 'Ġapologized': 22893,\n",
       " 'Ġ172': 23120,\n",
       " 'Ġarrested': 5169,\n",
       " 'ux': 2821,\n",
       " 'throw': 16939,\n",
       " 'Min': 9452,\n",
       " 'Ġblog': 4130,\n",
       " 'thirst': 48832,\n",
       " 'ĠVarg': 44684,\n",
       " 'Ġincumb': 19742,\n",
       " 'Ġstride': 33769,\n",
       " 'Ġcontrast': 6273,\n",
       " 'idents': 3231,\n",
       " 'oned': 12004,\n",
       " 'ELL': 23304,\n",
       " 'ILE': 41119,\n",
       " 'Mp': 28861,\n",
       " 'Ġlag': 19470,\n",
       " 'Ġ|--': 44233,\n",
       " 'ationally': 15208,\n",
       " 'Ġ291': 43336,\n",
       " 'erick': 41556,\n",
       " 'Ġacceleration': 20309,\n",
       " 'else': 17772,\n",
       " 'annis': 45017,\n",
       " 'ĠFreedom': 10204,\n",
       " 'Ġclasses': 6097,\n",
       " 'ĠClan': 22467,\n",
       " 'Disable': 48893,\n",
       " 'vl': 19279,\n",
       " 'ĠPolice': 4287,\n",
       " 'asing': 2313,\n",
       " 'urrection': 21384,\n",
       " 'Ġcrore': 22306,\n",
       " 'Ġpopularity': 11533,\n",
       " 'Ġshooters': 26191,\n",
       " 'FY': 43833,\n",
       " 'Ġsmokers': 24109,\n",
       " 'ĠMau': 28931,\n",
       " 'Ġhose': 31489,\n",
       " 'Ġhast': 19338,\n",
       " 'Ġcentr': 27435,\n",
       " 'Ġsugars': 34476,\n",
       " 'Adapter': 47307,\n",
       " 'MN': 39764,\n",
       " 'ĠColonel': 21636,\n",
       " 'Ġguys': 3730,\n",
       " 'ulator': 8927,\n",
       " 'Ġlore': 24044,\n",
       " 'ites': 2737,\n",
       " 'atz': 27906,\n",
       " 'Ġgranite': 41013,\n",
       " 'Ġwithheld': 31453,\n",
       " 'Ġod': 16298,\n",
       " 'Not': 3673,\n",
       " 'Show': 15307,\n",
       " 'ĠPeggy': 40910,\n",
       " 'Ġdecad': 46734,\n",
       " 'Ġrender': 8543,\n",
       " 'Ġ1889': 49545,\n",
       " 'Ġ353': 47567,\n",
       " 'Kal': 41428,\n",
       " 'ĠResponse': 18261,\n",
       " 'lla': 8466,\n",
       " 'gly': 10853,\n",
       " 'Ġespionage': 30113,\n",
       " 'Ġrepr': 41575,\n",
       " 'Ġmanageable': 36426,\n",
       " 'Ġpredicts': 26334,\n",
       " 'activation': 48545,\n",
       " 'onsense': 46563,\n",
       " 'ĠSwansea': 36019,\n",
       " '77': 3324,\n",
       " 'Wow': 22017,\n",
       " 'orn': 1211,\n",
       " 'vert': 1851,\n",
       " 'Ã¨': 14064,\n",
       " 'tted': 28734,\n",
       " 'Ġsuffix': 35488,\n",
       " 'Ġ840': 48777,\n",
       " 'ĠAw': 5851,\n",
       " 'ĠLeah': 31232,\n",
       " 'ĠTHREE': 48697,\n",
       " 'Ġemptiness': 49333,\n",
       " 'Ġbeforehand': 27091,\n",
       " 'Ġindistinguishable': 43649,\n",
       " 'Ġinterchangeable': 43615,\n",
       " 'ĠTuring': 39141,\n",
       " 'Ġceilings': 45926,\n",
       " 'Ġdelay': 5711,\n",
       " 'Ġtrainers': 28514,\n",
       " 'ĠBir': 12817,\n",
       " 'Quite': 44959,\n",
       " 'hof': 39891,\n",
       " 'imate': 1920,\n",
       " 'ĠRom': 3570,\n",
       " 'Ġairlines': 26225,\n",
       " '};': 19629,\n",
       " 'Ġhour': 1711,\n",
       " 'Ġcollapses': 35752,\n",
       " 'Ġlookout': 40497,\n",
       " 'Ġarmored': 24856,\n",
       " 'ĠBelfast': 29713,\n",
       " 'Ġballots': 20103,\n",
       " 'Ġbelong': 5594,\n",
       " 'Ġimm': 2296,\n",
       " 'ĠFulton': 44373,\n",
       " 'Ġbreakdown': 14608,\n",
       " 'Ġinformant': 35710,\n",
       " 'Ġpledge': 13995,\n",
       " 'Hol': 28115,\n",
       " 'ĠGodzilla': 38104,\n",
       " 'exec': 18558,\n",
       " 'Ġcause': 2728,\n",
       " 'ĠKnown': 29454,\n",
       " 'Ġexoner': 43507,\n",
       " 'OVA': 41576,\n",
       " 'credit': 43082,\n",
       " 'iddler': 26458,\n",
       " 'Arm': 26560,\n",
       " 'ĠNewsweek': 39594,\n",
       " 'atu': 33419,\n",
       " 'Ġdivisive': 29656,\n",
       " 'ocks': 3320,\n",
       " 'Ġbead': 49773,\n",
       " 'Ġpulse': 19445,\n",
       " 'Ġvast': 5909,\n",
       " 'Ġvetoed': 49581,\n",
       " 'Ġâĵĺ': 30684,\n",
       " 'Jes': 22290,\n",
       " 'children': 17197,\n",
       " 'Ġoperative': 28609,\n",
       " 'Ġover': 625,\n",
       " 'Ġspot': 4136,\n",
       " 'Ġvitro': 30590,\n",
       " 'END': 10619,\n",
       " 'Ġ202': 22131,\n",
       " 'supported': 15999,\n",
       " 'ĠAlgeria': 36498,\n",
       " 'ĠWaterloo': 36782,\n",
       " 'Following': 14291,\n",
       " 'Ġbehav': 2955,\n",
       " 'eur': 23365,\n",
       " 'ĠMahjong': 37380,\n",
       " 'Ġordinance': 19784,\n",
       " 'Ġsomewhat': 6454,\n",
       " 'president': 22540,\n",
       " 'Ġarrangements': 14752,\n",
       " 'Ġdemonstrated': 9555,\n",
       " 'Ġfacial': 16324,\n",
       " 'Ġspree': 37386,\n",
       " 'Ġawards': 13304,\n",
       " 'Original': 20556,\n",
       " 'ĠMonths': 37461,\n",
       " 'ÅĤ': 41615,\n",
       " 'ĠDear': 23420,\n",
       " 'Ġcredible': 18409,\n",
       " 'Ġexaggeration': 42769,\n",
       " 'Ġfires': 12252,\n",
       " 'Ġsufficient': 6751,\n",
       " 'ĠALE': 32318,\n",
       " 'Ġsatellites': 20372,\n",
       " 'skirts': 28383,\n",
       " 'un': 403,\n",
       " 'Ġsurg': 19797,\n",
       " 'Ġrecycled': 32099,\n",
       " '652': 43193,\n",
       " 'Ġholy': 11386,\n",
       " 'Ġpione': 15272,\n",
       " 'Sham': 43478,\n",
       " 'Penn': 39899,\n",
       " 'inness': 32990,\n",
       " 'Ġsmartest': 44730,\n",
       " 'Ġcynicism': 49509,\n",
       " 'Ġrejuven': 46834,\n",
       " 'ĠElliott': 22386,\n",
       " 'ĠMetatron': 38894,\n",
       " 'Ġsalty': 36021,\n",
       " 'Ġtrade': 3292,\n",
       " 'Ġcpu': 42804,\n",
       " 'Ġdragon': 10441,\n",
       " 'specific': 11423,\n",
       " 'Ġstrengthening': 24175,\n",
       " 'may': 11261,\n",
       " 'ensible': 27339,\n",
       " 'ĠAnonymous': 19200,\n",
       " 'ĠHRC': 40512,\n",
       " 'Ġhotel': 7541,\n",
       " 'ĠAnswer': 23998,\n",
       " 'Ġignore': 8856,\n",
       " 'ospel': 13994,\n",
       " 'fin': 15643,\n",
       " 'ettel': 47417,\n",
       " 'ibaba': 37541,\n",
       " 'ĠVisa': 27645,\n",
       " 'ĠShots': 42162,\n",
       " 'Ġcompile': 17632,\n",
       " 'ega': 26470,\n",
       " 'uster': 5819,\n",
       " 'inson': 7899,\n",
       " 'Ġlaying': 16299,\n",
       " 'pelled': 15803,\n",
       " 'ĠOrders': 30689,\n",
       " 'ĠWords': 23087,\n",
       " 'Ġneighboring': 19651,\n",
       " 'Ġcrypt': 8194,\n",
       " 'ĠHug': 12905,\n",
       " 'ENS': 16938,\n",
       " 'Ġcomprehension': 35915,\n",
       " 'Ġcracking': 25407,\n",
       " 'Ġplaythrough': 48938,\n",
       " 'Ġrent': 5602,\n",
       " 'killer': 32156,\n",
       " 'auri': 35190,\n",
       " 'foreseen': 44952,\n",
       " 'shop': 24643,\n",
       " 'pdf': 12315,\n",
       " 'ĠErit': 43349,\n",
       " 'Ġexactly': 3446,\n",
       " 'Ġhandmade': 40973,\n",
       " 'Ġminerals': 21622,\n",
       " 'Ġpuberty': 35149,\n",
       " 'Ġsuitable': 11080,\n",
       " 'Ġtakeover': 27011,\n",
       " 'Ġunprotected': 42069,\n",
       " 'Ġrenamed': 25121,\n",
       " 'Ġcomplex': 3716,\n",
       " 'tein': 22006,\n",
       " 'Ġsteadily': 18434,\n",
       " 'orders': 6361,\n",
       " 'ache': 4891,\n",
       " 'Ġwelcome': 7062,\n",
       " 'Ġteachers': 7799,\n",
       " 'Ġvice': 7927,\n",
       " 'mson': 24996,\n",
       " 'ĠNissan': 28190,\n",
       " 'Ġknew': 2993,\n",
       " 'entially': 3746,\n",
       " 'Ġelectrode': 46203,\n",
       " 'ĠNass': 38742,\n",
       " 'Ġexc': 2859,\n",
       " 'Ġvisible': 7424,\n",
       " 'Ġquestionnaire': 28301,\n",
       " '))))': 35514,\n",
       " 'ĠBundes': 33816,\n",
       " 'ĠPOS': 28069,\n",
       " 'ĠAluminum': 35859,\n",
       " 'ept': 19598,\n",
       " 'Ġarcade': 27210,\n",
       " 'ãĤ¨ãĥ«': 46948,\n",
       " 'Ġprime': 6994,\n",
       " 'Ġred': 2266,\n",
       " 'Either': 32478,\n",
       " 'Ġformulation': 31760,\n",
       " 'anka': 15927,\n",
       " 'emetery': 19785,\n",
       " 'Ġdemo': 13605,\n",
       " 'Transform': 41762,\n",
       " 'terior': 14172,\n",
       " 'ãĤ·': 15661,\n",
       " 'Ġfatty': 19251,\n",
       " 'Border': 34189,\n",
       " 'Ġpowd': 32279,\n",
       " 'Ġappealing': 16403,\n",
       " 'ĠNavy': 8565,\n",
       " 'Ġrenewal': 22901,\n",
       " 'Ġrep': 1128,\n",
       " 'Ġsuperheroes': 40896,\n",
       " 'Ġsupporters': 5941,\n",
       " 'ĠâĶĤ': 19421,\n",
       " 'Campaign': 46102,\n",
       " 'alg': 14016,\n",
       " 'western': 14197,\n",
       " '535': 44465,\n",
       " ']}': 48999,\n",
       " 'Ġ239': 32817,\n",
       " 'Ġbreed': 15939,\n",
       " 'ĠVIEW': 49880,\n",
       " 'licted': 17823,\n",
       " 'Ġcoat': 13209,\n",
       " 'itual': 10587,\n",
       " 'Ġmanufactures': 46306,\n",
       " 'Ġmodify': 13096,\n",
       " 'onductor': 40990,\n",
       " 'lers': 8116,\n",
       " 'ĠAc': 4013,\n",
       " 'incent': 42816,\n",
       " 'iversity': 1608,\n",
       " 'ĠAthletics': 32646,\n",
       " 'ĠStores': 41835,\n",
       " 'ãģ¯': 31676,\n",
       " 'pathic': 38829,\n",
       " 'rett': 11489,\n",
       " 'Ġautomatic': 11353,\n",
       " 'pring': 12667,\n",
       " 'dates': 19581,\n",
       " 'Sty': 18716,\n",
       " 'ĠAlberta': 15555,\n",
       " 'ĠLodge': 27046,\n",
       " 'Ġcardio': 47926,\n",
       " 'Sensor': 47864,\n",
       " 'ĠShea': 42368,\n",
       " 'ĠIndustrial': 19034,\n",
       " 'unciation': 24978,\n",
       " ',âĢĶ': 34976,\n",
       " 'Ġchances': 8395,\n",
       " 'Ġden': 2853,\n",
       " 'ĠParkway': 38613,\n",
       " 'ĠKling': 28638,\n",
       " 'Ġfoil': 25501,\n",
       " 'Ġgau': 14885,\n",
       " 'Ġnan': 15709,\n",
       " 'ĠMax': 5436,\n",
       " 'Ġoutweigh': 31405,\n",
       " 'Ġpathway': 21182,\n",
       " 'ĠWell': 3894,\n",
       " 'El': 9527,\n",
       " 'Ġdiversity': 9573,\n",
       " 'Ġpipelines': 31108,\n",
       " 'Ġparties': 4671,\n",
       " 'ĠBuffy': 27438,\n",
       " 'Ġreligious': 4158,\n",
       " 'ASY': 26483,\n",
       " 'Ġuber': 48110,\n",
       " 'Ġindef': 16536,\n",
       " 'ĠCourier': 34268,\n",
       " '\",\"': 2430,\n",
       " 'Ġstructure': 4645,\n",
       " 'ĠPorn': 29629,\n",
       " 'jay': 33708,\n",
       " 'Ġtopple': 49377,\n",
       " '358': 31128,\n",
       " 'RE': 2200,\n",
       " 'Ġpurchaser': 39122,\n",
       " 'Ġverification': 19637,\n",
       " 'ri': 380,\n",
       " 'Ġsuccessive': 25175,\n",
       " 'Ġwall': 3355,\n",
       " 'Flags': 40053,\n",
       " 'direction': 37295,\n",
       " 'Ġ1998': 7795,\n",
       " 'ac': 330,\n",
       " 'Ġswallowing': 45590,\n",
       " 'ĠJamaica': 31620,\n",
       " 'Ġnostalg': 22314,\n",
       " 'Purchase': 47651,\n",
       " 'Ġoutlining': 36995,\n",
       " 'Ġdepressing': 31193,\n",
       " 'Ġdelim': 46728,\n",
       " 'Ġtransfer': 4351,\n",
       " 'Ġ150': 6640,\n",
       " 'Ġcondoms': 33298,\n",
       " 'Ġscreenings': 41377,\n",
       " 'Ġfaced': 7452,\n",
       " 'brother': 37343,\n",
       " 'Ġstruggles': 12766,\n",
       " 'Dream': 30571,\n",
       " 'ĠMood': 25723,\n",
       " 'Ġscores': 8198,\n",
       " 'Ġadvis': 8503,\n",
       " 'ĠBoo': 21458,\n",
       " 'Ġartificial': 11666,\n",
       " 'ĠFAC': 44216,\n",
       " 'phone': 4862,\n",
       " 'Ġalcoholism': 46526,\n",
       " 'Ġ..': 11485,\n",
       " 'ĠKill': 12265,\n",
       " 'ĠRecommend': 30361,\n",
       " 'ĠDome': 31390,\n",
       " 'itu': 34272,\n",
       " 'OIL': 49713,\n",
       " 'mos': 16785,\n",
       " 'NT': 11251,\n",
       " 'ĠGolf': 19709,\n",
       " 'RET': 26087,\n",
       " 'ĠPete': 17542,\n",
       " 'ĠPeterson': 18914,\n",
       " 'ĠSanctuary': 27036,\n",
       " 'Ġcord': 15050,\n",
       " 'Ġfoster': 17016,\n",
       " 'Ġtim': 4628,\n",
       " 'Ġdismissive': 49010,\n",
       " 'Ġbone': 9970,\n",
       " 'Ġmotherboard': 32768,\n",
       " 'Column': 39470,\n",
       " 'Ġtoday': 1909,\n",
       " 'ĠCarl': 8124,\n",
       " 'Ġbattled': 31472,\n",
       " 'Ġopio': 18356,\n",
       " 'Ġwires': 19474,\n",
       " 'Ġdocumentaries': 43014,\n",
       " 'ĠRichards': 14743,\n",
       " 'andr': 46273,\n",
       " 'ĠTSA': 32453,\n",
       " 'Ġjails': 39435,\n",
       " 'itched': 10981,\n",
       " 'Ġefficient': 6942,\n",
       " 'ĠTinker': 46316,\n",
       " 'App': 4677,\n",
       " 'Ġ+/-': 29694,\n",
       " '630': 30005,\n",
       " 'Ġoverest': 41850,\n",
       " 'COMPLE': 41335,\n",
       " 'ophobic': 23468,\n",
       " 'ĠPearl': 18482,\n",
       " 'ĠInstruct': 20689,\n",
       " 'OULD': 24010,\n",
       " 'Ġattractiveness': 43325,\n",
       " 'ĠBritain': 5491,\n",
       " 'Ġnail': 17864,\n",
       " 'vent': 1151,\n",
       " 'ĠAVG': 35224,\n",
       " 'Cool': 34530,\n",
       " 'Ġforest': 8222,\n",
       " 'Against': 39276,\n",
       " 'roid': 3882,\n",
       " 'atari': 35554,\n",
       " 'Ġcompanions': 19429,\n",
       " '54': 4051,\n",
       " 'haust': 42456,\n",
       " 'ĠexternalToEVAOnly': 30213,\n",
       " 'Ġsociop': 41221,\n",
       " 'tall': 35429,\n",
       " 'Plus': 17860,\n",
       " 'Ġart': 1242,\n",
       " 'closed': 20225,\n",
       " 'ĠFarming': 39831,\n",
       " 'Ġdecidedly': 32343,\n",
       " 'Ġmasked': 29229,\n",
       " 'ĠGerm': 14164,\n",
       " 'ĠDick': 11740,\n",
       " 'Ġestimation': 31850,\n",
       " '?!\"': 30823,\n",
       " '997': 39647,\n",
       " 'ĠBreast': 37476,\n",
       " 'ESE': 33635,\n",
       " 'Ġgathered': 9272,\n",
       " 'addon': 48078,\n",
       " 'Ġmeaningless': 24513,\n",
       " 'iasm': 16401,\n",
       " 'ille': 8270,\n",
       " 'bill': 35546,\n",
       " 'nn': 20471,\n",
       " 'Ġ67': 8275,\n",
       " 'ĠBeef': 35309,\n",
       " 'ðŁ': 8582,\n",
       " 'ĠDowntown': 25657,\n",
       " 'ĠOliver': 15416,\n",
       " 'äº': 12859,\n",
       " 'ĠTow': 24324,\n",
       " 'Ġhep': 47585,\n",
       " 'Ġtaxi': 17536,\n",
       " 'sexual': 18338,\n",
       " 'Ġ$$': 32382,\n",
       " 'Ġcousins': 28706,\n",
       " 'Ġlevel': 1241,\n",
       " 'Ġtouching': 15241,\n",
       " 'Ġvisually': 22632,\n",
       " 'ĠWhat': 1867,\n",
       " 'Ġbasketball': 9669,\n",
       " 'Ġcrossed': 12606,\n",
       " 'ĠBrav': 32780,\n",
       " 'ĠNero': 46810,\n",
       " 'Ġswollen': 37327,\n",
       " 'empl': 18856,\n",
       " 'Ġprotagonist': 20281,\n",
       " 'Ġreluctance': 33506,\n",
       " 'ĠCBS': 11133,\n",
       " 'Ġable': 1498,\n",
       " 'Ġloc': 1179,\n",
       " 'ĠPreservation': 47805,\n",
       " 'Example': 16281,\n",
       " 'Ġstd': 14367,\n",
       " 'ĠRey': 24448,\n",
       " 'otle': 23556,\n",
       " 'Ġsilicone': 35804,\n",
       " 'Ġopinions': 9317,\n",
       " 'Ġonion': 21670,\n",
       " 'Ġquote': 9577,\n",
       " 'ĠKhalid': 44544,\n",
       " 'ĠThread': 14122,\n",
       " '320': 19504,\n",
       " 'ĠCabin': 16804,\n",
       " 'ĠCoast': 8545,\n",
       " 'ĠEW': 43255,\n",
       " 'Ġfraudulent': 24627,\n",
       " 'Few': 32351,\n",
       " 'Ġhelm': 18030,\n",
       " '...]': 22345,\n",
       " 'ĠAlcohol': 21051,\n",
       " 'ĠIvory': 37499,\n",
       " 'Strength': 45027,\n",
       " 'ĠNguyen': 42379,\n",
       " 'rawn': 5791,\n",
       " 'ĠKham': 45159,\n",
       " 'ĠBring': 24347,\n",
       " 'aters': 8605,\n",
       " 'Ġdinosaurs': 27199,\n",
       " 'Ġinfluence': 4588,\n",
       " 'WS': 19416,\n",
       " 'ors': 669,\n",
       " 'Ġhorses': 14260,\n",
       " 'Ġpredictive': 33344,\n",
       " 'Ġradi': 19772,\n",
       " 'Ġcliff': 19516,\n",
       " 'Ġtestim': 8844,\n",
       " 'Ġtraveled': 14113,\n",
       " 'Ġunilaterally': 44486,\n",
       " 'ĠHardware': 28715,\n",
       " 'SIZE': 33489,\n",
       " 'Ġfeedback': 7538,\n",
       " 'ĠViper': 34517,\n",
       " 'Ġwarheads': 50046,\n",
       " 'Ġcausing': 6666,\n",
       " 'ĠIdeal': 41765,\n",
       " 'ĠQin': 31482,\n",
       " 'mite': 32937,\n",
       " 'Ġspeak': 2740,\n",
       " 'Ġcurated': 36768,\n",
       " 'Ġ--------': 24200,\n",
       " 'Ġgluc': 14182,\n",
       " 'ĠQuran': 30018,\n",
       " 'Ġhut': 40812,\n",
       " 'Ġwelfare': 9490,\n",
       " 'avorable': 32006,\n",
       " 'ĠKiev': 22761,\n",
       " '406': 29703,\n",
       " 'Rick': 33048,\n",
       " 'Dynamic': 44090,\n",
       " 'ĠMonetary': 34112,\n",
       " '()': 3419,\n",
       " 'ĠContent': 14041,\n",
       " 'onomic': 40036,\n",
       " 'Input': 20560,\n",
       " 'LB': 30501,\n",
       " 'instein': 11962,\n",
       " 'ĠFrancois': 40419,\n",
       " 'ĠMG': 34809,\n",
       " 'ĠUltimately': 24199,\n",
       " 'Ġflashlight': 38371,\n",
       " 'ĠAthlet': 18093,\n",
       " 'Ġlandscapes': 32964,\n",
       " 'ĠVI': 13889,\n",
       " 'Ġopened': 4721,\n",
       " 'olving': 10890,\n",
       " 'safe': 21230,\n",
       " 'Ġrelease': 2650,\n",
       " 'disabled': 47730,\n",
       " 'Ġinfant': 11212,\n",
       " 'higher': 46503,\n",
       " 'odka': 28601,\n",
       " 'pect': 806,\n",
       " 'Ġpsychiatric': 19906,\n",
       " 'ĠPCs': 21869,\n",
       " 'ï¸': 35266,\n",
       " 'hurst': 33500,\n",
       " 'Ġfloats': 36016,\n",
       " 'Ġsuffice': 34302,\n",
       " 'ĠBro': 2806,\n",
       " 'ĠEventually': 16178,\n",
       " 'Ġdefunct': 49119,\n",
       " 'undreds': 20960,\n",
       " 'Lou': 24016,\n",
       " 'ĠEagles': 13785,\n",
       " 'ĠHastings': 38330,\n",
       " 'Ġgri': 11120,\n",
       " 'WN': 29767,\n",
       " 'ĠOfficer': 10391,\n",
       " 'Ġconstituencies': 43742,\n",
       " 'kins': 5331,\n",
       " 'Pear': 46262,\n",
       " 'Ġnon': 1729,\n",
       " 'Ġtranslator': 33417,\n",
       " 'Ġmeltdown': 37824,\n",
       " 'ĠIranians': 34608,\n",
       " 'Ġappreciated': 16373,\n",
       " 'ĠKickstarter': 14437,\n",
       " 'Ġdiscovers': 27472,\n",
       " 'Ġnailed': 37708,\n",
       " 'ousel': 48355,\n",
       " 'Ġprec': 3718,\n",
       " 'ĠSpeak': 40802,\n",
       " 'Ġresistant': 18290,\n",
       " 'later': 36760,\n",
       " 'otropic': 46084,\n",
       " 'Ġthro': 9244,\n",
       " 'Amount': 31264,\n",
       " 'Ġnoteworthy': 30902,\n",
       " 'ĠAlibaba': 41992,\n",
       " 'etrical': 34546,\n",
       " 'ears': 4127,\n",
       " 'NH': 33863,\n",
       " 'Ġremed': 20100,\n",
       " 'reb': 34806,\n",
       " 'NB': 32819,\n",
       " 'ĠShades': 47260,\n",
       " 'VK': 47191,\n",
       " 'aily': 3079,\n",
       " 'ĠBeacon': 29729,\n",
       " 'ĠUNC': 39151,\n",
       " 'Ġantibiotics': 22392,\n",
       " '311': 36244,\n",
       " 'Ġargs': 26498,\n",
       " 'Ġsett': 2970,\n",
       " 'Ġarr': 5240,\n",
       " 'ĠEuras': 35769,\n",
       " 'ĠMuslim': 3765,\n",
       " 'asso': 28372,\n",
       " 'Ġdefines': 15738,\n",
       " 'Ġforemost': 20976,\n",
       " 'Ġacoustic': 26071,\n",
       " 'Ġinsur': 49741,\n",
       " 'ĠGong': 47142,\n",
       " 'Ġcleaned': 20750,\n",
       " 'Ġleve': 34002,\n",
       " 'ĠMiche': 27407,\n",
       " 'Ġsports': 5701,\n",
       " 'Ġdime': 37062,\n",
       " 'initial': 36733,\n",
       " 'Ġspur': 26724,\n",
       " 'Ġ1908': 40417,\n",
       " 'ĠFist': 23733,\n",
       " 'Ġshopping': 9735,\n",
       " 'ĠLiu': 18258,\n",
       " '%).': 18823,\n",
       " '////////': 16150,\n",
       " 'ĠIPO': 41805,\n",
       " '490': 31503,\n",
       " 'ĠAnother': 6023,\n",
       " 'Ġ6000': 39064,\n",
       " 'ĠKar': 9375,\n",
       " 'Ren': 26764,\n",
       " 'ente': 21872,\n",
       " 'Ġpall': 47725,\n",
       " 'Ġsurely': 10403,\n",
       " 'inline': 45145,\n",
       " 'ĠKung': 44753,\n",
       " 'Ġwinner': 8464,\n",
       " 'Ġwired': 28217,\n",
       " 'ĠBetsy': 45775,\n",
       " 'Ġdeterrence': 49272,\n",
       " 'ĠCOM': 9440,\n",
       " 'Russia': 16347,\n",
       " 'ĠIL': 14639,\n",
       " 'Ġgul': 47161,\n",
       " 'Ġinsurg': 17844,\n",
       " 'Ġpinnacle': 45985,\n",
       " 'ĠTheater': 22207,\n",
       " 'ĠIngredients': 33474,\n",
       " 'Ġabandon': 6871,\n",
       " 'Ġenormous': 9812,\n",
       " 'aeus': 46052,\n",
       " 'Justin': 33229,\n",
       " 'hs': 11994,\n",
       " 'ĠLua': 43316,\n",
       " '×ª': 42064,\n",
       " 'Ġdowns': 21838,\n",
       " 'ĠControl': 6779,\n",
       " 'Ġobject': 2134,\n",
       " 'Ġembod': 13968,\n",
       " 'ĠSty': 42378,\n",
       " 'ĠTE': 13368,\n",
       " 'Sup': 40784,\n",
       " 'conv': 42946,\n",
       " 'MAL': 42126,\n",
       " 'bey': 23454,\n",
       " 'pe': 431,\n",
       " 'sectional': 44330,\n",
       " 'tex': 16886,\n",
       " 'ĠApple': 4196,\n",
       " 'ĠPB': 30524,\n",
       " 'ĠPerry': 14105,\n",
       " 'pn': 21999,\n",
       " 'ĠNA': 11746,\n",
       " 'Ġexpand': 4292,\n",
       " 'iations': 40356,\n",
       " 'Ġaudi': 40504,\n",
       " 'Ġpesticides': 27482,\n",
       " 'vertis': 3346,\n",
       " 'Ġsecular': 14589,\n",
       " 'ĠHick': 42441,\n",
       " 'DIS': 26288,\n",
       " 'Ġcameras': 9073,\n",
       " 'ĠThames': 42521,\n",
       " ...}"
      ]
     },
     "execution_count": 8,
     "metadata": {},
     "output_type": "execute_result"
    }
   ],
   "source": [
    "tokenizer.get_vocab()"
   ]
  },
  {
   "cell_type": "code",
   "execution_count": 9,
   "id": "d9aed360-5e9a-45a3-84ed-b92b18caa959",
   "metadata": {},
   "outputs": [
    {
     "name": "stdout",
     "output_type": "stream",
     "text": [
      "['One', 'Ġday', ',', 'Ġa', 'Ġlittle', 'Ġgirl', 'Ġnamed', 'ĠLily', 'Ġfound', 'Ġa', 'Ġneedle', 'Ġin', 'Ġher', 'Ġroom', '.', 'ĠShe', 'Ġknew', 'Ġit', 'Ġwas', 'Ġdifficult', 'Ġto', 'Ġplay', 'Ġwith', 'Ġit', 'Ġbecause', 'Ġit', 'Ġwas', 'Ġsharp', '.', 'ĠLily', 'Ġwanted', 'Ġto', 'Ġshare', 'Ġthe', 'Ġneedle', 'Ġwith', 'Ġher', 'Ġmom', ',', 'Ġso', 'Ġshe', 'Ġcould', 'Ġsew', 'Ġa', 'Ġbutton', 'Ġon', 'Ġher', 'Ġshirt', '.', 'Ċ', 'Ċ', 'L', 'ily', 'Ġwent', 'Ġto', 'Ġher', 'Ġmom', 'Ġand', 'Ġsaid', ',', 'Ġ\"', 'Mom', ',', 'ĠI', 'Ġfound', 'Ġthis', 'Ġneedle', '.', 'ĠCan', 'Ġyou', 'Ġshare', 'Ġit', 'Ġwith', 'Ġme', 'Ġand', 'Ġsew', 'Ġmy', 'Ġshirt', '?\"', 'ĠHer', 'Ġmom', 'Ġsmiled', 'Ġand', 'Ġsaid', ',', 'Ġ\"', 'Yes', ',', 'ĠLily', ',', 'Ġwe', 'Ġcan', 'Ġshare', 'Ġthe', 'Ġneedle', 'Ġand', 'Ġfix', 'Ġyour', 'Ġshirt', '.\"', 'Ċ', 'Ċ', 'Together', ',', 'Ġthey', 'Ġshared', 'Ġthe', 'Ġneedle', 'Ġand', 'Ġse', 'wed', 'Ġthe', 'Ġbutton', 'Ġon', 'ĠLily', \"'s\", 'Ġshirt', '.', 'ĠIt', 'Ġwas', 'Ġnot', 'Ġdifficult', 'Ġfor', 'Ġthem', 'Ġbecause', 'Ġthey', 'Ġwere', 'Ġsharing', 'Ġand', 'Ġhelping', 'Ġeach', 'Ġother', '.', 'ĠAfter', 'Ġthey', 'Ġfinished', ',', 'ĠLily', 'Ġthanked', 'Ġher', 'Ġmom', 'Ġfor', 'Ġsharing', 'Ġthe', 'Ġneedle', 'Ġand', 'Ġfixing', 'Ġher', 'Ġshirt', '.', 'ĠThey', 'Ġboth', 'Ġfelt', 'Ġhappy', 'Ġbecause', 'Ġthey', 'Ġhad', 'Ġshared', 'Ġand', 'Ġworked', 'Ġtogether', '.']\n"
     ]
    }
   ],
   "source": [
    "# finally, let's see how the tokenizer splits one of our stories into tokens\n",
    "text_tokens = tokenizer.tokenize(ds['train'][0]['text'])\n",
    "print(text_tokens)"
   ]
  },
  {
   "cell_type": "code",
   "execution_count": 10,
   "id": "89467cde-d34e-4f42-b20d-5abcef458759",
   "metadata": {},
   "outputs": [
    {
     "name": "stdout",
     "output_type": "stream",
     "text": [
      "[('One', 3198), ('Ġday', 1110), (',', 11), ('Ġa', 257), ('Ġlittle', 1310), ('Ġgirl', 2576), ('Ġnamed', 3706), ('ĠLily', 20037), ('Ġfound', 1043), ('Ġa', 257), ('Ġneedle', 17598), ('Ġin', 287), ('Ġher', 607), ('Ġroom', 2119), ('.', 13), ('ĠShe', 1375), ('Ġknew', 2993), ('Ġit', 340), ('Ġwas', 373), ('Ġdifficult', 2408), ('Ġto', 284), ('Ġplay', 711), ('Ġwith', 351), ('Ġit', 340), ('Ġbecause', 780), ('Ġit', 340), ('Ġwas', 373), ('Ġsharp', 7786), ('.', 13), ('ĠLily', 20037), ('Ġwanted', 2227), ('Ġto', 284), ('Ġshare', 2648), ('Ġthe', 262), ('Ġneedle', 17598), ('Ġwith', 351), ('Ġher', 607), ('Ġmom', 1995), (',', 11), ('Ġso', 523), ('Ġshe', 673), ('Ġcould', 714), ('Ġsew', 34249), ('Ġa', 257), ('Ġbutton', 4936), ('Ġon', 319), ('Ġher', 607), ('Ġshirt', 10147), ('.', 13), ('Ċ', 198), ('Ċ', 198), ('L', 43), ('ily', 813), ('Ġwent', 1816), ('Ġto', 284), ('Ġher', 607), ('Ġmom', 1995), ('Ġand', 290), ('Ġsaid', 531), (',', 11), ('Ġ\"', 366), ('Mom', 29252), (',', 11), ('ĠI', 314), ('Ġfound', 1043), ('Ġthis', 428), ('Ġneedle', 17598), ('.', 13), ('ĠCan', 1680), ('Ġyou', 345), ('Ġshare', 2648), ('Ġit', 340), ('Ġwith', 351), ('Ġme', 502), ('Ġand', 290), ('Ġsew', 34249), ('Ġmy', 616), ('Ġshirt', 10147), ('?\"', 1701), ('ĠHer', 2332), ('Ġmom', 1995), ('Ġsmiled', 13541), ('Ġand', 290), ('Ġsaid', 531), (',', 11), ('Ġ\"', 366), ('Yes', 5297), (',', 11), ('ĠLily', 20037), (',', 11), ('Ġwe', 356), ('Ġcan', 460), ('Ġshare', 2648), ('Ġthe', 262), ('Ġneedle', 17598), ('Ġand', 290), ('Ġfix', 4259), ('Ġyour', 534), ('Ġshirt', 10147), ('.\"', 526), ('Ċ', 198), ('Ċ', 198), ('Together', 41631), (',', 11), ('Ġthey', 484), ('Ġshared', 4888), ('Ġthe', 262), ('Ġneedle', 17598), ('Ġand', 290), ('Ġse', 384), ('wed', 19103), ('Ġthe', 262), ('Ġbutton', 4936), ('Ġon', 319), ('ĠLily', 20037), (\"'s\", 338), ('Ġshirt', 10147), ('.', 13), ('ĠIt', 632), ('Ġwas', 373), ('Ġnot', 407), ('Ġdifficult', 2408), ('Ġfor', 329), ('Ġthem', 606), ('Ġbecause', 780), ('Ġthey', 484), ('Ġwere', 547), ('Ġsharing', 7373), ('Ġand', 290), ('Ġhelping', 5742), ('Ġeach', 1123), ('Ġother', 584), ('.', 13), ('ĠAfter', 2293), ('Ġthey', 484), ('Ġfinished', 5201), (',', 11), ('ĠLily', 20037), ('Ġthanked', 26280), ('Ġher', 607), ('Ġmom', 1995), ('Ġfor', 329), ('Ġsharing', 7373), ('Ġthe', 262), ('Ġneedle', 17598), ('Ġand', 290), ('Ġfixing', 18682), ('Ġher', 607), ('Ġshirt', 10147), ('.', 13), ('ĠThey', 1119), ('Ġboth', 1111), ('Ġfelt', 2936), ('Ġhappy', 3772), ('Ġbecause', 780), ('Ġthey', 484), ('Ġhad', 550), ('Ġshared', 4888), ('Ġand', 290), ('Ġworked', 3111), ('Ġtogether', 1978), ('.', 13)]\n"
     ]
    }
   ],
   "source": [
    "# we also need to numericalize (i.e. assign numbers) to these tokens\n",
    "# the tokenizer takes care of this for us\n",
    "number_tokens = tokenizer(ds['train'][0]['text'])['input_ids']\n",
    "print([*zip(text_tokens, number_tokens)])"
   ]
  },
  {
   "cell_type": "markdown",
   "id": "d9e9b45e-ca63-4669-95d0-0f940502c89b",
   "metadata": {},
   "source": [
    "Before being able to use this dataset, though, we need to do one more thing. Usually language models have something called their *\"context length\"*, which is a window of tokens they can \"see\" at prediction time. As we usually have documents of varying sizes, we need to create \"chunks\" of size *context_length* (also sometimes called *sequence length*). The paper uses 512 tokens to make a prediction (i.e. a context length of size 512), so that's what we'll use too!"
   ]
  },
  {
   "cell_type": "code",
   "execution_count": 31,
   "id": "b4678bc7-b367-422f-b879-9084771e4edc",
   "metadata": {},
   "outputs": [],
   "source": [
    "context_length = 1024"
   ]
  },
  {
   "cell_type": "code",
   "execution_count": 32,
   "id": "b41e1f90-b19a-43eb-bb76-76bde8bfd29f",
   "metadata": {},
   "outputs": [
    {
     "data": {
      "application/vnd.jupyter.widget-view+json": {
       "model_id": "e81594648bf049228a98ed539c765578",
       "version_major": 2,
       "version_minor": 0
      },
      "text/plain": [
       "Map:   0%|          | 0/2119719 [00:00<?, ? examples/s]"
      ]
     },
     "metadata": {},
     "output_type": "display_data"
    },
    {
     "data": {
      "application/vnd.jupyter.widget-view+json": {
       "model_id": "3f4dc66b2d884516b3850fb129591d9d",
       "version_major": 2,
       "version_minor": 0
      },
      "text/plain": [
       "Map:   0%|          | 0/21990 [00:00<?, ? examples/s]"
      ]
     },
     "metadata": {},
     "output_type": "display_data"
    }
   ],
   "source": [
    "# let's tokenize all the data in the dataset, and also chunk it into pieces of size \"context_length\"\n",
    "# don't worry too much about what the following does; in short, it concatenates all texts, then\n",
    "# simply takes chunks of equal size (if you're curious to know more about it, see\n",
    "# https://huggingface.co/learn/nlp-course/chapter7/6#preparing-the-dataset)\n",
    "def tokenize_and_chunk(examples):\n",
    "    outputs = tokenizer(\n",
    "        examples['text'],\n",
    "        truncation=True,\n",
    "        max_length=context_length,\n",
    "        return_overflowing_tokens=True,\n",
    "        return_length=True,\n",
    "    )\n",
    "    input_batch = []\n",
    "    for length, input_ids in zip(outputs[\"length\"], outputs[\"input_ids\"]):\n",
    "        if length == context_length:\n",
    "            input_batch.append(input_ids)\n",
    "    return {\"input_ids\": input_batch}\n",
    "\n",
    "tokenized_ds = ds.map(\n",
    "    tokenize_and_chunk, batched=True, remove_columns=ds[\"train\"].column_names\n",
    ")"
   ]
  },
  {
   "cell_type": "code",
   "execution_count": 33,
   "id": "8bfd1d60-74a6-470e-89d2-de256b26b436",
   "metadata": {},
   "outputs": [],
   "source": [
    "# we need to set the format of the dataset to \"torch\", meaning we'll use pytorch tensors\n",
    "tokenized_ds.set_format('torch')"
   ]
  },
  {
   "cell_type": "code",
   "execution_count": 34,
   "id": "8e323649-b851-4cc4-bca3-d105c44e0eef",
   "metadata": {},
   "outputs": [
    {
     "data": {
      "text/plain": [
       "DatasetDict({\n",
       "    train: Dataset({\n",
       "        features: ['input_ids'],\n",
       "        num_rows: 1238\n",
       "    })\n",
       "    validation: Dataset({\n",
       "        features: ['input_ids'],\n",
       "        num_rows: 11\n",
       "    })\n",
       "})"
      ]
     },
     "execution_count": 34,
     "metadata": {},
     "output_type": "execute_result"
    }
   ],
   "source": [
    "tokenized_ds"
   ]
  },
  {
   "cell_type": "markdown",
   "id": "9718e4de-361a-41c1-bfeb-04db7faab20f",
   "metadata": {},
   "source": [
    "## 3. The model"
   ]
  },
  {
   "cell_type": "markdown",
   "id": "a1f85820-7954-4aaa-96fd-9d26af837f72",
   "metadata": {},
   "source": [
    "Let's now pick the model to train! Although the paper used a variation of a GPT2 model, we encourage you to pick *any* model you want (this includes LLama, Gemma, GPT, Olmo etc.). Try to find one already implemented in HuggingFace, but feel free to write your own implementation if you want!"
   ]
  },
  {
   "cell_type": "code",
   "execution_count": 68,
   "id": "e7c6fd43-d4b4-41bf-ba67-febd61bdea88",
   "metadata": {},
   "outputs": [
    {
     "data": {
      "text/plain": [
       "LlamaForCausalLM(\n",
       "  (model): LlamaModel(\n",
       "    (embed_tokens): Embedding(50257, 768)\n",
       "    (layers): ModuleList(\n",
       "      (0-3): 4 x LlamaDecoderLayer(\n",
       "        (self_attn): LlamaSdpaAttention(\n",
       "          (q_proj): Linear(in_features=768, out_features=768, bias=False)\n",
       "          (k_proj): Linear(in_features=768, out_features=768, bias=False)\n",
       "          (v_proj): Linear(in_features=768, out_features=768, bias=False)\n",
       "          (o_proj): Linear(in_features=768, out_features=768, bias=False)\n",
       "          (rotary_emb): LlamaRotaryEmbedding()\n",
       "        )\n",
       "        (mlp): LlamaMLP(\n",
       "          (gate_proj): Linear(in_features=768, out_features=3072, bias=False)\n",
       "          (up_proj): Linear(in_features=768, out_features=3072, bias=False)\n",
       "          (down_proj): Linear(in_features=3072, out_features=768, bias=False)\n",
       "          (act_fn): NewGELUActivation()\n",
       "        )\n",
       "        (input_layernorm): LlamaRMSNorm((768,), eps=1e-06)\n",
       "        (post_attention_layernorm): LlamaRMSNorm((768,), eps=1e-06)\n",
       "      )\n",
       "    )\n",
       "    (norm): LlamaRMSNorm((768,), eps=1e-06)\n",
       "    (rotary_emb): LlamaRotaryEmbedding()\n",
       "  )\n",
       "  (lm_head): Linear(in_features=768, out_features=50257, bias=False)\n",
       ")"
      ]
     },
     "execution_count": 68,
     "metadata": {},
     "output_type": "execute_result"
    }
   ],
   "source": [
    "# let's pick a llama model as an example\n",
    "# we want to have a model around 33M parameters, which is one of the results in the paper\n",
    "# to get an idea of the configuration of the model, we'll check out its HF page:\n",
    "# https://huggingface.co/roneneldan/TinyStories-33M/blob/main/config.json\n",
    "config = LlamaConfig(vocab_size=len(tokenizer),\n",
    "                     hidden_size=768,\n",
    "                     intermediate_size=4*768,\n",
    "                     num_hidden_layers=4,\n",
    "                     num_attention_heads=16,\n",
    "                     hidden_act='gelu_new',\n",
    "                    )\n",
    "model = LlamaForCausalLM(config)\n",
    "\n",
    "# let's also move the model on the GPU now\n",
    "model.to(device)\n",
    "model"
   ]
  },
  {
   "cell_type": "code",
   "execution_count": 69,
   "id": "3b8e45ba-cb23-4456-bbd6-a4758b26295e",
   "metadata": {},
   "outputs": [
    {
     "data": {
      "text/plain": [
       "37755648"
      ]
     },
     "execution_count": 69,
     "metadata": {},
     "output_type": "execute_result"
    }
   ],
   "source": [
    "# this one's around 37M parameters, without the embedings and the final layer; close enough to 33M!\n",
    "sum(p.numel() for p in model.parameters()) - 2 * len(tokenizer) * 768"
   ]
  },
  {
   "cell_type": "markdown",
   "id": "8c635bfb-fbe0-4ef1-b137-41fe0ecabc0d",
   "metadata": {},
   "source": [
    "We'll also need an error function, as well as an optimizer. We'll pick Cross Entropy, which is the usual for language modeling, and we'll also pick [AdamW](https://pytorch.org/docs/stable/generated/torch.optim.AdamW.html), which is more often used nowadays for NLP and language modeling than SGD. We'll also use similar hyperparameters (learning rate, batch size etc.) with those used in the paper, as much as possible (see [the HF page of the model](https://huggingface.co/roneneldan/TinyStories-33M))."
   ]
  },
  {
   "cell_type": "code",
   "execution_count": 70,
   "id": "cbe478e5-6f9e-4123-ac7c-44081f437c0c",
   "metadata": {},
   "outputs": [
    {
     "data": {
      "text/plain": [
       "CrossEntropyLoss()"
      ]
     },
     "execution_count": 70,
     "metadata": {},
     "output_type": "execute_result"
    }
   ],
   "source": [
    "loss_fn = torch.nn.CrossEntropyLoss()\n",
    "loss_fn"
   ]
  },
  {
   "cell_type": "code",
   "execution_count": 71,
   "id": "88cd8969-7a13-4f84-9183-e5df6bc3b35d",
   "metadata": {},
   "outputs": [
    {
     "data": {
      "text/plain": [
       "AdamW (\n",
       "Parameter Group 0\n",
       "    amsgrad: False\n",
       "    betas: (0.9, 0.95)\n",
       "    capturable: False\n",
       "    differentiable: False\n",
       "    eps: 1e-08\n",
       "    foreach: None\n",
       "    fused: None\n",
       "    lr: 0.0004\n",
       "    maximize: False\n",
       "    weight_decay: 0.1\n",
       ")"
      ]
     },
     "execution_count": 71,
     "metadata": {},
     "output_type": "execute_result"
    }
   ],
   "source": [
    "optimizer = torch.optim.AdamW(model.parameters(), lr=0.0004, weight_decay=0.1, betas=(0.9, 0.95))\n",
    "optimizer"
   ]
  },
  {
   "cell_type": "markdown",
   "id": "51ed68b3-ec9d-41f7-931f-5e58ce183316",
   "metadata": {},
   "source": [
    "Finally, let's construct a dataloader from the data we have. Notice that we don't want shuffling. Remember how we chunked the data? We had to create chunks of equal sizes (of size *context_length*), and so some of the texts certainly didn't perfetly line up (so perhaps a chunk has the start of one story, and the end of the story ended up in the next chunk!). This is fine, but we have to be careful about shuffling here. We don't want to shuffle those chunks, as we need to keep the order of the texts, because they are split on separate chunks! Instead, what we should've done (and you should do) is first shuffle the documents (the stories) in the initial dataset, and **then** chunk those."
   ]
  },
  {
   "cell_type": "code",
   "execution_count": 72,
   "id": "843f31bb-5e93-44da-b795-7a6d3dbd4bd3",
   "metadata": {},
   "outputs": [
    {
     "data": {
      "text/plain": [
       "<torch.utils.data.dataloader.DataLoader at 0x7f38108b3a50>"
      ]
     },
     "execution_count": 72,
     "metadata": {},
     "output_type": "execute_result"
    }
   ],
   "source": [
    "# create the dataloader (we'll use only batch_size 32, instead of 80, as was reported in the paper,\n",
    "# because we don't have enough memory on an A100 GPU)\n",
    "dl = torch.utils.data.DataLoader(tokenized_ds['train'], batch_size=16, shuffle=False)\n",
    "dl"
   ]
  },
  {
   "cell_type": "markdown",
   "id": "d6a4f00c-6596-4521-9cdb-7247ec360323",
   "metadata": {},
   "source": [
    "And finally, we have a *very* similar training loop with the one we used for MNIST. Nothing changes, except some small particularities about the model and data. We'll keep the epochs at 1, since this dataset is (relatively) big, but you can play around and see if more epochs help."
   ]
  },
  {
   "cell_type": "markdown",
   "id": "1971a03a-34f8-4cfe-9421-3c5c8d605d05",
   "metadata": {},
   "source": [
    "One more thing before we train. Since this could take a while (maybe a few dozen minutes to 1 hour on 1 A100 GPU), we'll use [tqdm](https://tqdm.github.io/), which will print a very nice progress bar for us."
   ]
  },
  {
   "cell_type": "code",
   "execution_count": 73,
   "id": "7d19b195-6aaa-4e72-9fdd-c53084a2cd5f",
   "metadata": {},
   "outputs": [
    {
     "data": {
      "application/vnd.jupyter.widget-view+json": {
       "model_id": "d7d55f3e09ee4cd68eb9ac8af0d2ea34",
       "version_major": 2,
       "version_minor": 0
      },
      "text/plain": [
       "  0%|          | 0/78 [00:00<?, ?it/s]"
      ]
     },
     "metadata": {},
     "output_type": "display_data"
    },
    {
     "data": {
      "application/vnd.jupyter.widget-view+json": {
       "model_id": "d598d675e7df41b3aa02a152b9901888",
       "version_major": 2,
       "version_minor": 0
      },
      "text/plain": [
       "  0%|          | 0/78 [00:00<?, ?it/s]"
      ]
     },
     "metadata": {},
     "output_type": "display_data"
    },
    {
     "data": {
      "application/vnd.jupyter.widget-view+json": {
       "model_id": "4c1d2d1b94e747ab83189ed89f99c332",
       "version_major": 2,
       "version_minor": 0
      },
      "text/plain": [
       "  0%|          | 0/78 [00:00<?, ?it/s]"
      ]
     },
     "metadata": {},
     "output_type": "display_data"
    },
    {
     "data": {
      "application/vnd.jupyter.widget-view+json": {
       "model_id": "7f22e4a71c4a46a4aeeb1db16044edbc",
       "version_major": 2,
       "version_minor": 0
      },
      "text/plain": [
       "  0%|          | 0/78 [00:00<?, ?it/s]"
      ]
     },
     "metadata": {},
     "output_type": "display_data"
    }
   ],
   "source": [
    "epochs = 4\n",
    "losses = []\n",
    "\n",
    "for epoch in range(epochs):\n",
    "\n",
    "    for batch in tqdm_notebook(dl, total=len(dl)):\n",
    "        # retrieve one batch of data from the dataloader\n",
    "        inputs = batch['input_ids']\n",
    "\n",
    "        # move the inputs to GPU\n",
    "        inputs = inputs.to(device)\n",
    "        \n",
    "        labels = inputs\n",
    "\n",
    "        # before anything else, make sure we have no gradients yet calculated/saved,\n",
    "        # for any of the model parameters\n",
    "        optimizer.zero_grad()\n",
    "\n",
    "        # calculate the output of the model (we need the \"logits\" of the model, which\n",
    "        # is what the output of the final linear layer is called)\n",
    "        output = model(inputs).logits\n",
    "        \n",
    "        # we are doing next-token prediction, so we shift label scores and outputs by 1\n",
    "        labels = labels[:, 1:].contiguous()\n",
    "        shifted_output = output[:, :-1, :].contiguous()\n",
    "\n",
    "        # calculate the loss (error) of the model with respect to the labels\n",
    "        loss = loss_fn(shifted_output.view(-1, shifted_output.size(-1)), labels.view(-1))\n",
    "\n",
    "        # save the loss value\n",
    "        losses.append(loss.item())\n",
    "\n",
    "        # this is where the magic happens; PyTorch now calculates the gradients AUTOMATICALLY for us,\n",
    "        # and the optimizer updates the parameters with these gradients\n",
    "        loss.backward()\n",
    "        optimizer.step()"
   ]
  },
  {
   "cell_type": "markdown",
   "id": "89f381dc-b038-4957-9212-22486be98a9f",
   "metadata": {},
   "source": [
    "## 4. Results"
   ]
  },
  {
   "cell_type": "markdown",
   "id": "9814095c-7b92-4318-97bf-a76c99cf83de",
   "metadata": {},
   "source": [
    "First of all, let's see the loss curve."
   ]
  },
  {
   "cell_type": "code",
   "execution_count": 61,
   "id": "dc25b32c-a2f8-4091-95f2-7a94a8abf27d",
   "metadata": {},
   "outputs": [
    {
     "name": "stdout",
     "output_type": "stream",
     "text": [
      "0.060746949166059494\n"
     ]
    },
    {
     "data": {
      "image/png": "[encoded data removed]",
      "text/plain": [
       "<Figure size 640x480 with 1 Axes>"
      ]
     },
     "metadata": {},
     "output_type": "display_data"
    }
   ],
   "source": [
    "plt.scatter(range(len(losses)), losses)\n",
    "print(losses[-1])"
   ]
  },
  {
   "cell_type": "code",
   "execution_count": null,
   "id": "77c5af8b-e622-4f23-90ec-caccd3d93c6b",
   "metadata": {},
   "outputs": [],
   "source": []
  },
  {
   "cell_type": "markdown",
   "id": "c1c34385-9db8-4e12-8f7b-5d61e829ab22",
   "metadata": {},
   "source": [
    "Good, this means we got the model to train! Now let's try doing some inference (i.e. see what the model produces when we give it some text!). We'll use some of the HF utilities as well here."
   ]
  },
  {
   "cell_type": "code",
   "execution_count": 64,
   "id": "63b76be3-d96f-4aae-95db-785528f9d412",
   "metadata": {},
   "outputs": [],
   "source": [
    "# try to play around with this prompt; see what the model can and can't do\n",
    "text_to_complete = 'Lily said the color of the rainbow was very'"
   ]
  },
  {
   "cell_type": "code",
   "execution_count": 65,
   "id": "ee02119d-b107-4e95-baec-db718b7849bc",
   "metadata": {},
   "outputs": [
    {
     "name": "stderr",
     "output_type": "stream",
     "text": [
      "Setting `pad_token_id` to `eos_token_id`:None for open-end generation.\n"
     ]
    },
    {
     "name": "stdout",
     "output_type": "stream",
     "text": [
      "Lily said the color of the rainbow was very little very much. She felt bad at her arm and scared. She said, \"No, thank you, mom. I like the bees and I don't like the hospital. I like the cold and the thick head.\"\n",
      "\n",
      "Her mom hugged her and said, \"Okay, Lily. I will protect you and help you better. But you have to listen to me when the doctor will let you go.\"\n",
      "\n",
      "Lily and her mom walked to the doctor and held a sticker in and held they disappeared inside. Lily was still scared small and hungry. She hoped the doctor would not fly so drop the or shouted. She said, \"No, mom, I don't want to go. I want to stay here and play. Leave me, mom, I will look at home and I promise.\"\n",
      "\n",
      "Lily was very angry and said, \"Fine, Lily, that won't go to the doctor. The doctor will heal soon. And then, I will be done and you will be done. The doctor will be will help me at a little while. I promise.\"\n",
      "\n",
      "Lily did as a cast of stickers and sat on the door. She smiled and said, \" wash my teeth and stay sharp teeth. I promise.\"\n",
      "\n",
      "L\n"
     ]
    }
   ],
   "source": [
    "# inference on the model\n",
    "from transformers import pipeline\n",
    "\n",
    "pipe = pipeline('text-generation', model=model, tokenizer=tokenizer, device=device)\n",
    "output = pipe(\n",
    "    text_to_complete,\n",
    "    max_new_tokens=256, # number of tokens to generate\n",
    "    do_sample=True, # this gives us a little randomness; set to False for deterministic generation\n",
    ")[0]['generated_text']\n",
    "\n",
    "print(output)"
   ]
  },
  {
   "cell_type": "markdown",
   "id": "dce2af96-da86-44aa-943b-a697e5231f3d",
   "metadata": {},
   "source": [
    "There you have it! We just trained a language model (Transformer model) from scratch! Now we just need a bigger model (hundreds of billions - 1 trillion parameters), coupled with more data (terabytes of text) and we get pretty close to the State-of-the-Art models (like ChatGPT or Gemini)!"
   ]
  },
  {
   "cell_type": "code",
   "execution_count": null,
   "id": "48278673-8c79-43a0-ab86-3e3f0d9f828b",
   "metadata": {},
   "outputs": [],
   "source": []
  },
  {
   "cell_type": "markdown",
   "id": "ec3d2ff9-612f-4a99-bb6c-d55cef2a1b6a",
   "metadata": {},
   "source": [
    "One last thing! We should save this model, in case we want to load it later for inference. This way, we don't have to train it every time we want to run predictions. We'll also ask you for this model, as proof that you managed to train it!"
   ]
  },
  {
   "cell_type": "code",
   "execution_count": 66,
   "id": "d7af99b6-d995-4067-a21d-b6a0fa31c90d",
   "metadata": {},
   "outputs": [
    {
     "data": {
      "text/plain": [
       "114950400"
      ]
     },
     "execution_count": 66,
     "metadata": {},
     "output_type": "execute_result"
    }
   ],
   "source": [
    "sum(p.numel() for p in model.parameters())"
   ]
  },
  {
   "cell_type": "markdown",
   "id": "b540af1c-597e-4424-91d9-25f5e97c31f9",
   "metadata": {},
   "source": [
    "As the model has roughly 115M parameters total, it takes about 460 MB on disk (since every parameter is an fp32 value)."
   ]
  },
  {
   "cell_type": "code",
   "execution_count": 67,
   "id": "1b45809c-bfb2-4012-abd4-4e9ab86606a7",
   "metadata": {},
   "outputs": [],
   "source": [
    "model.save_pretrained('pretrained_language_model_weights_context_1024_8epochs')"
   ]
  },
  {
   "cell_type": "code",
   "execution_count": null,
   "id": "ab5cdca9-8f15-4b03-9742-7bcac8febd23",
   "metadata": {},
   "outputs": [],
   "source": []
  },
  {
   "cell_type": "markdown",
   "id": "a7b76d5e-1b87-4aa7-ac72-a988f1a3ae1d",
   "metadata": {},
   "source": [
    "## 5. Note about HuggingFace"
   ]
  },
  {
   "cell_type": "markdown",
   "id": "40197997-0873-447f-8ac4-6f5b0e818045",
   "metadata": {},
   "source": [
    "Although tools like HuggingFace (HF) are great for the utilities they provide for training, models, datasets and the inference processes, we can't rely too much on them for speed and low-level optimizations. They are amazing tools to learn how the process of training a model works, though, so that's why we've been using them quite a bit, even with the abstractions they employ (the model, the tokenizer, the dataset and the inference process are abstracted for us, but that's ok for now). Most of the time, in production, faster, more custom solutions are used."
   ]
  },
  {
   "cell_type": "code",
   "execution_count": null,
   "id": "05a59ff2-629d-4f48-bda2-6968e23ba5cc",
   "metadata": {},
   "outputs": [],
   "source": []
  },
  {
   "cell_type": "markdown",
   "id": "bb7426cc-5d95-45c8-b702-65c209b2df32",
   "metadata": {},
   "source": [
    "## 6. RNN's (optional)"
   ]
  },
  {
   "cell_type": "markdown",
   "id": "d5f527d6-a603-4cd9-9cfd-f5baa0d0058f",
   "metadata": {},
   "source": [
    "Finally, below is a very simple RNN implementation, with only one input, one output, and one hidden layer. If you want to compare the results with the Transformer model above, feel free to train this model as well. We recommend [chapter 10](https://github.com/fastai/fastbook/blob/master/10_nlp.ipynb) and [chapter 12](https://github.com/fastai/fastbook/blob/master/12_nlp_dive.ipynb) from `fast.ai`'s great book on machine learning for coders, for an intro on coding an RNN (where we also adapted the code from). Although these architectures are now quite obsolete, their ideas on recurrence are quite powerful and keep surfacing once in a while, so it's good to be able to know what an RNN does."
   ]
  },
  {
   "cell_type": "code",
   "execution_count": 26,
   "id": "b1f0a82d-882b-4068-882e-f7481dd27a7b",
   "metadata": {},
   "outputs": [],
   "source": [
    "class RNN(torch.nn.Module):\n",
    "    def __init__(self, vocab_sz, n_hidden):\n",
    "        super().__init__()\n",
    "        self.i_h = torch.nn.Embedding(vocab_sz, n_hidden)  # input embeddings (text -> vector)\n",
    "        self.h_h = torch.nn.Linear(n_hidden, n_hidden)  # hidden layer (vector processing)\n",
    "        self.h_o = torch.nn.Linear(n_hidden,vocab_sz)  # output layer (vector -> text)\n",
    "        self.h = 0  # hidden state (a sort of \"scratch pad\" for the model)\n",
    "        \n",
    "    def forward(self, x):\n",
    "        outs = []\n",
    "        for i in range(seq_len):\n",
    "            self.h = self.h + self.i_h(x[:,i])\n",
    "            self.h = F.relu(self.h_h(self.h))\n",
    "            outs.append(self.h_o(self.h))\n",
    "        self.h = self.h.detach()\n",
    "        return torch.stack(outs, dim=1)\n",
    "    \n",
    "    def reset(self):\n",
    "        # reset the hidden state for every new epoch\n",
    "        self.h = 0"
   ]
  },
  {
   "cell_type": "markdown",
   "id": "39d251a1-9725-425a-a347-484562c4cb8d",
   "metadata": {},
   "source": [
    "## 7. Report"
   ]
  },
  {
   "cell_type": "markdown",
   "id": "d8238566-2870-4b4c-a9e6-ab56d84464fd",
   "metadata": {},
   "source": [
    "The default model had a loss that started stalling after ~50-100 iterations at a value of under 2 and had a final value of 1.47 after over 4000 loss iterations\n",
    "\n",
    "Afterwards I tried a context window of 1024. The tokenization took a little bit longer, but the training finished way faster, but the performance was worse. It got to a 3.89 loss after ~80 loss iterations.\n",
    "\n",
    "For the 1024 context model I tried to train 2 epochs, and the performance improved, with a 2.63 after ~160 iterations\n",
    "\n",
    "I increased the number of epochs to 4 and I got a loss of 1.14 after ~320 iterations\n",
    "\n",
    "For some reason I got an even higher final loss with 8 epochs of 0.06 after ~640 iterations. I think something must be wrong though, there are way less iterations steps for each epoch with a 1024 context window compared to one of 512, and the loss is very small compared to the initla run.\n",
    "\n",
    "I also tried a context of 1024, 4 epochs and 0.0004 learning rate, and I got the same very samll final loss of 0.6. Again this seems a bit odd"
   ]
  },
  {
   "cell_type": "code",
   "execution_count": null,
   "id": "df47f237-276c-4d93-9146-5a15de2a28e9",
   "metadata": {},
   "outputs": [],
   "source": []
  }
 ],
 "metadata": {
  "kernelspec": {
   "display_name": "Python 3 (ipykernel)",
   "language": "python",
   "name": "python3"
  },
  "language_info": {
   "codemirror_mode": {
    "name": "ipython",
    "version": 3
   },
   "file_extension": ".py",
   "mimetype": "text/x-python",
   "name": "python",
   "nbconvert_exporter": "python",
   "pygments_lexer": "ipython3",
   "version": "3.11.10"
  }
 },
 "nbformat": 4,
 "nbformat_minor": 5
}
