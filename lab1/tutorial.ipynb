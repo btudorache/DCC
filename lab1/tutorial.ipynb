{
 "cells": [
  {
   "cell_type": "code",
   "execution_count": 5,
   "id": "421d86f6-a9a7-45ea-943c-85f665e8afbf",
   "metadata": {},
   "outputs": [
    {
     "name": "stdout",
     "output_type": "stream",
     "text": [
      "tensor([[1., 2.],\n",
      "        [3., 4.]])\n",
      "tensor([[ 1.,  4.],\n",
      "        [ 9., 16.]])\n"
     ]
    }
   ],
   "source": [
    "import torch\n",
    "a = torch.Tensor([[1,2],[3,4]])\n",
    "print(a)\n",
    "print(a ** 2)"
   ]
  },
  {
   "cell_type": "code",
   "execution_count": 7,
   "id": "5fac7c3c-6e41-4f8b-a1e1-154968c424c8",
   "metadata": {},
   "outputs": [
    {
     "name": "stdout",
     "output_type": "stream",
     "text": [
      "tensor([[1., 2.],\n",
      "        [3., 4.]], requires_grad=True)\n",
      "tensor(30., grad_fn=<SumBackward0>)\n",
      "tensor([[2., 4.],\n",
      "        [6., 8.]])\n"
     ]
    }
   ],
   "source": [
    "from torch.autograd import Variable\n",
    "a = Variable(torch.Tensor([[1,2],[3,4]]), requires_grad=True)\n",
    "print(a)\n",
    "\n",
    "y = torch.sum(a**2)\n",
    "print(y)\n",
    "\n",
    "y.backward()\n",
    "print(a.grad)"
   ]
  },
  {
   "cell_type": "code",
   "execution_count": 11,
   "id": "a1a0487b-2dde-4965-9834-c408de79f3dc",
   "metadata": {},
   "outputs": [
    {
     "name": "stdout",
     "output_type": "stream",
     "text": [
      "tensor([[-1.2112,  0.2675, -0.2248,  ..., -1.5242, -0.3984, -0.2108],\n",
      "        [ 0.7954, -0.6520, -1.6082,  ...,  0.2869, -0.2265,  0.0378],\n",
      "        [ 0.5676,  0.6612, -0.2878,  ...,  0.3964, -0.1586, -0.5458],\n",
      "        ...,\n",
      "        [-1.2087,  0.9428,  0.0563,  ..., -0.3881,  1.7870, -0.2234],\n",
      "        [ 0.2344, -1.7631,  0.5527,  ..., -0.4263,  2.8437, -0.9065],\n",
      "        [-0.5487,  0.8993,  0.5907,  ...,  1.2975, -0.0622, -0.5710]])\n",
      "tensor([[-3.4105e-03,  1.0401e-01, -2.8513e-01,  2.8813e-01,  6.1342e-02,\n",
      "          4.4717e-01, -1.7314e-01,  1.8734e-02, -7.9513e-02,  4.9780e-02],\n",
      "        [-1.0882e-01,  2.3368e-01, -3.0610e-01,  1.1576e-01, -3.8320e-02,\n",
      "          1.1395e-01, -2.4785e-01, -1.9713e-01, -1.1446e-01,  1.6656e-01],\n",
      "        [-2.0954e-01,  2.2291e-01, -2.6297e-01, -2.2822e-02,  1.1798e-01,\n",
      "          4.3667e-01, -8.7946e-02,  2.9155e-01, -6.2115e-02,  1.0340e-01],\n",
      "        [ 1.0110e-01, -1.0658e-03, -3.4622e-01, -1.5339e-02,  7.7534e-04,\n",
      "          8.1481e-02, -2.7482e-01, -3.9968e-01, -1.5739e-01, -5.9121e-02],\n",
      "        [-7.7072e-02, -5.3858e-02, -4.7275e-01,  3.0055e-01,  1.1073e-01,\n",
      "          3.6801e-01, -1.6661e-01,  2.6291e-01, -2.7484e-01, -5.7627e-02],\n",
      "        [-1.3609e-02,  3.1364e-01, -2.3617e-01, -6.8149e-02,  8.3117e-02,\n",
      "          3.9219e-01, -2.4090e-02, -2.4564e-02, -2.9189e-01,  2.0801e-01],\n",
      "        [-7.9649e-02,  6.7866e-02, -1.5526e-01, -4.0745e-01,  1.0063e-01,\n",
      "          3.1632e-01, -5.3476e-02, -2.6188e-01, -4.5337e-02, -5.4882e-02],\n",
      "        [-1.8487e-01,  1.7099e-02, -6.2189e-01,  2.8696e-01, -5.0144e-02,\n",
      "          4.4067e-01, -2.6450e-01, -1.7749e-01, -3.4941e-01,  4.9204e-02],\n",
      "        [ 2.1801e-01,  1.7952e-01, -3.6849e-01, -3.8559e-01, -1.4417e-01,\n",
      "          3.6984e-01,  4.7775e-03, -2.2120e-01, -3.6577e-01, -8.0875e-02],\n",
      "        [-7.0868e-02,  7.5945e-02, -4.1528e-01, -1.8798e-01,  3.2990e-02,\n",
      "          1.7274e-01,  1.2279e-02,  8.9218e-02, -1.1425e-01,  3.8457e-02],\n",
      "        [-9.0836e-02,  3.6741e-01,  1.1478e-01, -4.8031e-03,  1.7832e-01,\n",
      "          4.0285e-01, -4.3558e-01, -3.2512e-01, -4.2566e-01, -3.4492e-01],\n",
      "        [-1.7161e-01,  4.9825e-01, -3.3945e-01,  1.4368e-01,  1.7557e-01,\n",
      "          2.4131e-01, -3.3566e-01,  1.1168e-01, -1.5835e-01,  5.0477e-02],\n",
      "        [-8.2325e-02,  1.3330e-01, -2.7702e-01, -3.5546e-01,  2.6948e-01,\n",
      "          5.3732e-01, -1.6496e-01,  2.6309e-01, -2.6977e-01,  5.0501e-01],\n",
      "        [-1.4499e-01,  2.2140e-01, -3.2443e-01, -6.5545e-02,  2.7976e-02,\n",
      "          3.0601e-01, -4.7223e-02,  1.0028e-01, -2.4063e-01, -1.6107e-01],\n",
      "        [-1.0860e-01,  1.8724e-01, -5.0771e-01,  2.6536e-01,  2.3235e-01,\n",
      "          3.8206e-02, -2.3485e-01,  2.5205e-02, -8.3705e-02, -5.3429e-01],\n",
      "        [ 6.9369e-02, -2.7258e-01, -3.6978e-01,  1.6528e-01,  1.2170e-01,\n",
      "          3.6714e-01, -1.6923e-01,  1.8302e-01, -2.5048e-01,  5.5623e-02],\n",
      "        [-4.3567e-01,  2.6327e-01, -1.6424e-01, -7.1893e-02,  2.1149e-03,\n",
      "          1.9183e-01,  5.1570e-02, -2.0088e-01, -5.5882e-01,  3.3206e-02],\n",
      "        [-1.4942e-01, -8.2464e-02, -3.1476e-01, -1.7613e-01, -5.6742e-03,\n",
      "          3.3018e-01,  8.3300e-02,  2.5273e-01, -3.2598e-01,  1.9840e-01],\n",
      "        [-1.3210e-01,  2.2280e-01, -3.7248e-01,  1.8271e-01, -5.4480e-02,\n",
      "          2.5959e-01, -1.2098e-01,  2.2413e-01,  2.2005e-01,  1.8553e-01],\n",
      "        [-3.1020e-01, -8.7648e-02, -2.4776e-01, -9.6259e-02,  1.0047e-02,\n",
      "         -1.3090e-01,  1.3172e-01, -3.7051e-01,  8.8731e-02,  1.9575e-01],\n",
      "        [-6.9792e-02, -7.7214e-02, -5.1316e-01, -2.2069e-01, -3.6119e-03,\n",
      "          1.3342e-01,  3.4605e-02,  1.5612e-01, -7.9007e-02, -5.6386e-02],\n",
      "        [-2.5496e-01,  5.9292e-02, -4.6755e-01,  7.2789e-02, -3.1542e-01,\n",
      "          1.7880e-01, -1.8540e-01,  2.6170e-01, -2.4252e-01,  1.8181e-01],\n",
      "        [ 7.9931e-04, -3.6119e-02, -2.6951e-02, -5.7969e-02,  6.3527e-02,\n",
      "          9.4597e-02, -6.3251e-02,  1.3109e-01, -4.8412e-01, -1.0975e-01],\n",
      "        [-2.9868e-01,  4.1564e-02, -1.5952e-01, -8.6013e-02, -2.1275e-01,\n",
      "          2.9863e-01, -5.8381e-02,  6.5770e-02, -2.8242e-01, -4.3314e-02],\n",
      "        [-4.7284e-01, -1.8690e-02, -7.8517e-01, -2.3037e-01, -4.5152e-03,\n",
      "          4.2463e-01,  1.6013e-01,  2.5298e-02, -4.4110e-01, -1.8626e-01],\n",
      "        [-3.1590e-01,  3.7709e-01, -5.4432e-02,  1.7726e-02, -1.0231e-01,\n",
      "          2.2195e-01, -2.8843e-01,  2.9971e-01, -4.8117e-01, -2.0159e-01],\n",
      "        [-2.9928e-01, -1.2598e-01, -3.0941e-01, -1.2252e-01,  6.9727e-02,\n",
      "          1.8619e-02, -6.7275e-02,  1.3580e-01, -2.8514e-01, -5.2523e-02],\n",
      "        [-1.7411e-01,  3.1143e-01, -1.9112e-01,  1.1711e-01, -1.2647e-01,\n",
      "          2.0111e-01,  4.7379e-03,  1.9607e-01,  6.2314e-03, -1.0428e-01],\n",
      "        [-1.0313e-01,  1.0921e-01, -1.7247e-01, -2.2243e-01, -2.1213e-01,\n",
      "          1.8575e-01, -3.1151e-01, -2.6376e-02,  6.8704e-02, -6.7783e-02],\n",
      "        [ 1.0358e-01,  2.8810e-01, -3.2177e-01, -1.9173e-01, -2.5481e-02,\n",
      "          5.8380e-01,  9.5961e-02,  1.3106e-01, -4.5557e-01,  2.4102e-01],\n",
      "        [-1.3143e-01,  2.8455e-01, -9.0206e-02, -3.0550e-01, -5.3316e-02,\n",
      "          4.3922e-01, -2.1504e-01, -2.6011e-01, -7.1540e-02, -1.6780e-01],\n",
      "        [-1.7613e-01,  2.7118e-01, -3.8932e-01, -1.4496e-01,  2.4203e-02,\n",
      "          5.1930e-02, -1.3855e-01, -4.4539e-01, -3.8103e-01,  9.0291e-02]],\n",
      "       grad_fn=<AddmmBackward0>)\n"
     ]
    }
   ],
   "source": [
    "import torch.nn as nn\n",
    "import torch.nn.functional as F\n",
    "\n",
    "class TwoLayerNet(nn.Module):\n",
    "    def __init__(self, D_in, H, D_out):\n",
    "        \"\"\"\n",
    "        In the constructor we instantiate two nn.Linear modules and assign them as\n",
    "        member variables.\n",
    "\n",
    "        D_in: input dimension\n",
    "        H: dimension of hidden layer\n",
    "        D_out: output dimension\n",
    "        \"\"\"\n",
    "        super(TwoLayerNet, self).__init__()\n",
    "        self.linear1 = nn.Linear(D_in, H) \n",
    "        self.linear2 = nn.Linear(H, D_out)\n",
    "\n",
    "    def forward(self, x):\n",
    "            \"\"\"\n",
    "            In the forward function we accept a Variable of input data and we must \n",
    "            return a Variable of output data. We can use Modules defined in the \n",
    "            constructor as well as arbitrary operators on Variables.\n",
    "            \"\"\"\n",
    "            h_relu = F.relu(self.linear1(x))\n",
    "            y_pred = self.linear2(h_relu)\n",
    "            return y_pred\n",
    "\n",
    "#N is batch size; D_in is input dimension;\n",
    "#H is the dimension of the hidden layer; D_out is output dimension.\n",
    "N, D_in, H, D_out = 32, 100, 50, 10\n",
    "\n",
    "#Create random Tensors to hold inputs and outputs, and wrap them in Variables\n",
    "x = Variable(torch.randn(N, D_in))  # dim: 32 x 100\n",
    "print(x)\n",
    "\n",
    "#Construct our model by instantiating the class defined above\n",
    "model = TwoLayerNet(D_in, H, D_out)\n",
    "\n",
    "#Forward pass: Compute predicted y by passing x to the model\n",
    "y_pred = model(x)   # dim: 32 x 10\n",
    "print(y_pred)"
   ]
  },
  {
   "cell_type": "code",
   "execution_count": 14,
   "id": "fc17a2be-425f-4a93-89c8-e620931b74af",
   "metadata": {},
   "outputs": [],
   "source": [
    "loss_fn = nn.CrossEntropyLoss()\n",
    "\n",
    "def myCrossEntropyLoss(outputs, labels):\n",
    "    batch_size = outputs.size()[0]            # batch_size\n",
    "    outputs = F.log_softmax(outputs, dim=1)   # compute the log of softmax values\n",
    "    outputs = outputs[range(batch_size), labels] # pick the values corresponding to the labels\n",
    "    return -torch.sum(outputs)/num_examples\n"
   ]
  },
  {
   "cell_type": "code",
   "execution_count": 15,
   "id": "ad1504e4-8341-4fc9-b570-d69e46dd4383",
   "metadata": {},
   "outputs": [],
   "source": [
    "#pick an SGD optimizer\n",
    "optimizer = torch.optim.SGD(model.parameters(), lr = 0.01, momentum=0.9)\n",
    "\n",
    "#or pick ADAM\n",
    "optimizer = torch.optim.Adam(model.parameters(), lr = 0.0001)"
   ]
  },
  {
   "cell_type": "code",
   "execution_count": null,
   "id": "aa0a1e87-b653-4188-8b42-a01b9a6756aa",
   "metadata": {},
   "outputs": [],
   "source": []
  }
 ],
 "metadata": {
  "kernelspec": {
   "display_name": "Python 3 (ipykernel)",
   "language": "python",
   "name": "python3"
  },
  "language_info": {
   "codemirror_mode": {
    "name": "ipython",
    "version": 3
   },
   "file_extension": ".py",
   "mimetype": "text/x-python",
   "name": "python",
   "nbconvert_exporter": "python",
   "pygments_lexer": "ipython3",
   "version": "3.11.10"
  }
 },
 "nbformat": 4,
 "nbformat_minor": 5
}
